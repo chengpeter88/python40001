{
 "cells": [
  {
   "cell_type": "code",
   "execution_count": 113,
   "id": "a9525c79",
   "metadata": {},
   "outputs": [
    {
     "data": {
      "text/html": [
       "        <script type=\"text/javascript\">\n",
       "        window.PlotlyConfig = {MathJaxConfig: 'local'};\n",
       "        if (window.MathJax) {MathJax.Hub.Config({SVG: {font: \"STIX-Web\"}});}\n",
       "        if (typeof require !== 'undefined') {\n",
       "        require.undef(\"plotly\");\n",
       "        requirejs.config({\n",
       "            paths: {\n",
       "                'plotly': ['https://cdn.plot.ly/plotly-2.9.0.min']\n",
       "            }\n",
       "        });\n",
       "        require(['plotly'], function(Plotly) {\n",
       "            window._Plotly = Plotly;\n",
       "        });\n",
       "        }\n",
       "        </script>\n",
       "        "
      ]
     },
     "metadata": {},
     "output_type": "display_data"
    }
   ],
   "source": [
    "import matplotlib.pyplot as plt\n",
    "%matplotlib inline\n",
    "import seaborn as sns\n",
    "import plotly.offline as py\n",
    "from plotly.offline import init_notebook_mode\n",
    "init_notebook_mode(connected=True)\n",
    "import plotly.graph_objs as go\n",
    "from plotly import tools as tls\n",
    "from plotly import figure_factory as ff\n",
    "\n",
    "import pandas as pd\n",
    "import seaborn as sns\n",
    "import matplotlib.pyplot as plt"
   ]
  },
  {
   "cell_type": "code",
   "execution_count": 114,
   "id": "6e406d77",
   "metadata": {},
   "outputs": [
    {
     "name": "stdout",
     "output_type": "stream",
     "text": [
      "(384, 17)\n"
     ]
    },
    {
     "data": {
      "text/html": [
       "<div>\n",
       "<style scoped>\n",
       "    .dataframe tbody tr th:only-of-type {\n",
       "        vertical-align: middle;\n",
       "    }\n",
       "\n",
       "    .dataframe tbody tr th {\n",
       "        vertical-align: top;\n",
       "    }\n",
       "\n",
       "    .dataframe thead th {\n",
       "        text-align: right;\n",
       "    }\n",
       "</style>\n",
       "<table border=\"1\" class=\"dataframe\">\n",
       "  <thead>\n",
       "    <tr style=\"text-align: right;\">\n",
       "      <th></th>\n",
       "      <th>Unnamed: 0</th>\n",
       "      <th>title</th>\n",
       "      <th>author</th>\n",
       "      <th>proposal</th>\n",
       "      <th>incubate</th>\n",
       "      <th>estimateStart</th>\n",
       "      <th>startCapital</th>\n",
       "      <th>types</th>\n",
       "      <th>ratings</th>\n",
       "      <th>avg_ratings</th>\n",
       "      <th>isReject</th>\n",
       "      <th>successCriti</th>\n",
       "      <th>prePrice</th>\n",
       "      <th>price</th>\n",
       "      <th>review</th>\n",
       "      <th>status</th>\n",
       "      <th>solidTickets</th>\n",
       "    </tr>\n",
       "  </thead>\n",
       "  <tbody>\n",
       "    <tr>\n",
       "      <th>0</th>\n",
       "      <td>0</td>\n",
       "      <td>LeonTV 空中網球課 - 學會擊球，享受比賽</td>\n",
       "      <td>Leon Tsai</td>\n",
       "      <td>2019-11-07T16:00:00.000Z</td>\n",
       "      <td>2019-10-09T04:00:34.912Z</td>\n",
       "      <td>2020-01-06T16:00:00.000Z</td>\n",
       "      <td>2019-10-09T04:00:00.000Z</td>\n",
       "      <td>['DIGITAL']</td>\n",
       "      <td>0</td>\n",
       "      <td>0.0</td>\n",
       "      <td>False</td>\n",
       "      <td>30</td>\n",
       "      <td>1290</td>\n",
       "      <td>1990</td>\n",
       "      <td>False</td>\n",
       "      <td>INCUBATING</td>\n",
       "      <td>0</td>\n",
       "    </tr>\n",
       "    <tr>\n",
       "      <th>1</th>\n",
       "      <td>1</td>\n",
       "      <td>生活要清爽：讓空間煥然一新的整理收納課</td>\n",
       "      <td>欣講堂 xinforum</td>\n",
       "      <td>2019-11-06T16:00:00.000Z</td>\n",
       "      <td>2019-10-08T03:00:36.293Z</td>\n",
       "      <td>2020-01-05T16:00:00.000Z</td>\n",
       "      <td>2019-10-08T02:00:00.000Z</td>\n",
       "      <td>['DIGITAL']</td>\n",
       "      <td>0</td>\n",
       "      <td>0.0</td>\n",
       "      <td>False</td>\n",
       "      <td>30</td>\n",
       "      <td>1200</td>\n",
       "      <td>1580</td>\n",
       "      <td>False</td>\n",
       "      <td>INCUBATING</td>\n",
       "      <td>17</td>\n",
       "    </tr>\n",
       "    <tr>\n",
       "      <th>2</th>\n",
       "      <td>2</td>\n",
       "      <td>利息養成現金流：債券入門投資術</td>\n",
       "      <td>Z</td>\n",
       "      <td>2019-11-01T16:00:00.000Z</td>\n",
       "      <td>2019-10-03T04:00:13.830Z</td>\n",
       "      <td>2019-12-31T16:00:00.000Z</td>\n",
       "      <td>NaN</td>\n",
       "      <td>[]</td>\n",
       "      <td>0</td>\n",
       "      <td>0.0</td>\n",
       "      <td>False</td>\n",
       "      <td>30</td>\n",
       "      <td>1288</td>\n",
       "      <td>1990</td>\n",
       "      <td>False</td>\n",
       "      <td>INCUBATING</td>\n",
       "      <td>28</td>\n",
       "    </tr>\n",
       "    <tr>\n",
       "      <th>3</th>\n",
       "      <td>3</td>\n",
       "      <td>Dropshipping 電商創業 - 零庫存跨境電商</td>\n",
       "      <td>Michael Lin</td>\n",
       "      <td>2019-10-31T16:00:00.000Z</td>\n",
       "      <td>2019-10-02T04:00:32.590Z</td>\n",
       "      <td>2019-12-30T16:00:00.000Z</td>\n",
       "      <td>NaN</td>\n",
       "      <td>[]</td>\n",
       "      <td>0</td>\n",
       "      <td>0.0</td>\n",
       "      <td>False</td>\n",
       "      <td>30</td>\n",
       "      <td>1800</td>\n",
       "      <td>2900</td>\n",
       "      <td>False</td>\n",
       "      <td>INCUBATING</td>\n",
       "      <td>6</td>\n",
       "    </tr>\n",
       "    <tr>\n",
       "      <th>4</th>\n",
       "      <td>4</td>\n",
       "      <td>行銷業務動態儀表板與報告 - Power BI 應用</td>\n",
       "      <td>周勝輝</td>\n",
       "      <td>2019-10-30T16:00:00.000Z</td>\n",
       "      <td>2019-10-01T04:00:20.253Z</td>\n",
       "      <td>2019-12-29T16:00:00.000Z</td>\n",
       "      <td>NaN</td>\n",
       "      <td>[]</td>\n",
       "      <td>0</td>\n",
       "      <td>0.0</td>\n",
       "      <td>False</td>\n",
       "      <td>30</td>\n",
       "      <td>1450</td>\n",
       "      <td>2500</td>\n",
       "      <td>False</td>\n",
       "      <td>INCUBATING</td>\n",
       "      <td>5</td>\n",
       "    </tr>\n",
       "  </tbody>\n",
       "</table>\n",
       "</div>"
      ],
      "text/plain": [
       "   Unnamed: 0                        title        author  \\\n",
       "0           0     LeonTV 空中網球課 - 學會擊球，享受比賽     Leon Tsai   \n",
       "1           1          生活要清爽：讓空間煥然一新的整理收納課  欣講堂 xinforum   \n",
       "2           2              利息養成現金流：債券入門投資術             Z   \n",
       "3           3  Dropshipping 電商創業 - 零庫存跨境電商   Michael Lin   \n",
       "4           4   行銷業務動態儀表板與報告 - Power BI 應用           周勝輝   \n",
       "\n",
       "                   proposal                  incubate  \\\n",
       "0  2019-11-07T16:00:00.000Z  2019-10-09T04:00:34.912Z   \n",
       "1  2019-11-06T16:00:00.000Z  2019-10-08T03:00:36.293Z   \n",
       "2  2019-11-01T16:00:00.000Z  2019-10-03T04:00:13.830Z   \n",
       "3  2019-10-31T16:00:00.000Z  2019-10-02T04:00:32.590Z   \n",
       "4  2019-10-30T16:00:00.000Z  2019-10-01T04:00:20.253Z   \n",
       "\n",
       "              estimateStart              startCapital        types  ratings  \\\n",
       "0  2020-01-06T16:00:00.000Z  2019-10-09T04:00:00.000Z  ['DIGITAL']        0   \n",
       "1  2020-01-05T16:00:00.000Z  2019-10-08T02:00:00.000Z  ['DIGITAL']        0   \n",
       "2  2019-12-31T16:00:00.000Z                       NaN           []        0   \n",
       "3  2019-12-30T16:00:00.000Z                       NaN           []        0   \n",
       "4  2019-12-29T16:00:00.000Z                       NaN           []        0   \n",
       "\n",
       "   avg_ratings  isReject  successCriti  prePrice  price  review      status  \\\n",
       "0          0.0     False            30      1290   1990   False  INCUBATING   \n",
       "1          0.0     False            30      1200   1580   False  INCUBATING   \n",
       "2          0.0     False            30      1288   1990   False  INCUBATING   \n",
       "3          0.0     False            30      1800   2900   False  INCUBATING   \n",
       "4          0.0     False            30      1450   2500   False  INCUBATING   \n",
       "\n",
       "   solidTickets  \n",
       "0             0  \n",
       "1            17  \n",
       "2            28  \n",
       "3             6  \n",
       "4             5  "
      ]
     },
     "execution_count": 114,
     "metadata": {},
     "output_type": "execute_result"
    }
   ],
   "source": [
    "#https://drive.google.com/file/d/1uKw_CKoDLyOf3VH9SPR64_X4E-H10mo8/view\n",
    "#hahow學校課程 \n",
    "df=pd.read_csv(\"hahow_course.csv\")\n",
    "print(df.shape)\n",
    "df.head()\n",
    "#有分數評分是零的"
   ]
  },
  {
   "cell_type": "code",
   "execution_count": 115,
   "id": "6608a2e7",
   "metadata": {},
   "outputs": [],
   "source": [
    "#時間保留到日期就好\n",
    "df.proposal=pd.to_datetime(df.proposal).apply(lambda x:x.date())\n",
    "df.incubate=pd.to_datetime(df.incubate).apply(lambda x:x.date())\n",
    "df.estimateStart=pd.to_datetime(df.estimateStart).apply(lambda x:x.date())\n",
    "df[\"pro_month\"]=df.proposal.apply(lambda x:x.month)\n",
    "df[\"have\"]=1"
   ]
  },
  {
   "cell_type": "code",
   "execution_count": 116,
   "id": "a7ef32ee",
   "metadata": {},
   "outputs": [
    {
     "data": {
      "application/vnd.plotly.v1+json": {
       "config": {
        "linkText": "Export to plot.ly",
        "plotlyServerURL": "https://plot.ly",
        "showLink": false
       },
       "data": [
        {
         "type": "scatter",
         "x": [
          1,
          2,
          3,
          4,
          5,
          6,
          7,
          8,
          9,
          10,
          11,
          12
         ],
         "y": [
          31,
          30,
          25,
          25,
          32,
          34,
          40,
          35,
          37,
          45,
          29,
          21
         ]
        }
       ],
       "layout": {
        "template": {
         "data": {
          "bar": [
           {
            "error_x": {
             "color": "#2a3f5f"
            },
            "error_y": {
             "color": "#2a3f5f"
            },
            "marker": {
             "line": {
              "color": "#E5ECF6",
              "width": 0.5
             },
             "pattern": {
              "fillmode": "overlay",
              "size": 10,
              "solidity": 0.2
             }
            },
            "type": "bar"
           }
          ],
          "barpolar": [
           {
            "marker": {
             "line": {
              "color": "#E5ECF6",
              "width": 0.5
             },
             "pattern": {
              "fillmode": "overlay",
              "size": 10,
              "solidity": 0.2
             }
            },
            "type": "barpolar"
           }
          ],
          "carpet": [
           {
            "aaxis": {
             "endlinecolor": "#2a3f5f",
             "gridcolor": "white",
             "linecolor": "white",
             "minorgridcolor": "white",
             "startlinecolor": "#2a3f5f"
            },
            "baxis": {
             "endlinecolor": "#2a3f5f",
             "gridcolor": "white",
             "linecolor": "white",
             "minorgridcolor": "white",
             "startlinecolor": "#2a3f5f"
            },
            "type": "carpet"
           }
          ],
          "choropleth": [
           {
            "colorbar": {
             "outlinewidth": 0,
             "ticks": ""
            },
            "type": "choropleth"
           }
          ],
          "contour": [
           {
            "colorbar": {
             "outlinewidth": 0,
             "ticks": ""
            },
            "colorscale": [
             [
              0,
              "#0d0887"
             ],
             [
              0.1111111111111111,
              "#46039f"
             ],
             [
              0.2222222222222222,
              "#7201a8"
             ],
             [
              0.3333333333333333,
              "#9c179e"
             ],
             [
              0.4444444444444444,
              "#bd3786"
             ],
             [
              0.5555555555555556,
              "#d8576b"
             ],
             [
              0.6666666666666666,
              "#ed7953"
             ],
             [
              0.7777777777777778,
              "#fb9f3a"
             ],
             [
              0.8888888888888888,
              "#fdca26"
             ],
             [
              1,
              "#f0f921"
             ]
            ],
            "type": "contour"
           }
          ],
          "contourcarpet": [
           {
            "colorbar": {
             "outlinewidth": 0,
             "ticks": ""
            },
            "type": "contourcarpet"
           }
          ],
          "heatmap": [
           {
            "colorbar": {
             "outlinewidth": 0,
             "ticks": ""
            },
            "colorscale": [
             [
              0,
              "#0d0887"
             ],
             [
              0.1111111111111111,
              "#46039f"
             ],
             [
              0.2222222222222222,
              "#7201a8"
             ],
             [
              0.3333333333333333,
              "#9c179e"
             ],
             [
              0.4444444444444444,
              "#bd3786"
             ],
             [
              0.5555555555555556,
              "#d8576b"
             ],
             [
              0.6666666666666666,
              "#ed7953"
             ],
             [
              0.7777777777777778,
              "#fb9f3a"
             ],
             [
              0.8888888888888888,
              "#fdca26"
             ],
             [
              1,
              "#f0f921"
             ]
            ],
            "type": "heatmap"
           }
          ],
          "heatmapgl": [
           {
            "colorbar": {
             "outlinewidth": 0,
             "ticks": ""
            },
            "colorscale": [
             [
              0,
              "#0d0887"
             ],
             [
              0.1111111111111111,
              "#46039f"
             ],
             [
              0.2222222222222222,
              "#7201a8"
             ],
             [
              0.3333333333333333,
              "#9c179e"
             ],
             [
              0.4444444444444444,
              "#bd3786"
             ],
             [
              0.5555555555555556,
              "#d8576b"
             ],
             [
              0.6666666666666666,
              "#ed7953"
             ],
             [
              0.7777777777777778,
              "#fb9f3a"
             ],
             [
              0.8888888888888888,
              "#fdca26"
             ],
             [
              1,
              "#f0f921"
             ]
            ],
            "type": "heatmapgl"
           }
          ],
          "histogram": [
           {
            "marker": {
             "pattern": {
              "fillmode": "overlay",
              "size": 10,
              "solidity": 0.2
             }
            },
            "type": "histogram"
           }
          ],
          "histogram2d": [
           {
            "colorbar": {
             "outlinewidth": 0,
             "ticks": ""
            },
            "colorscale": [
             [
              0,
              "#0d0887"
             ],
             [
              0.1111111111111111,
              "#46039f"
             ],
             [
              0.2222222222222222,
              "#7201a8"
             ],
             [
              0.3333333333333333,
              "#9c179e"
             ],
             [
              0.4444444444444444,
              "#bd3786"
             ],
             [
              0.5555555555555556,
              "#d8576b"
             ],
             [
              0.6666666666666666,
              "#ed7953"
             ],
             [
              0.7777777777777778,
              "#fb9f3a"
             ],
             [
              0.8888888888888888,
              "#fdca26"
             ],
             [
              1,
              "#f0f921"
             ]
            ],
            "type": "histogram2d"
           }
          ],
          "histogram2dcontour": [
           {
            "colorbar": {
             "outlinewidth": 0,
             "ticks": ""
            },
            "colorscale": [
             [
              0,
              "#0d0887"
             ],
             [
              0.1111111111111111,
              "#46039f"
             ],
             [
              0.2222222222222222,
              "#7201a8"
             ],
             [
              0.3333333333333333,
              "#9c179e"
             ],
             [
              0.4444444444444444,
              "#bd3786"
             ],
             [
              0.5555555555555556,
              "#d8576b"
             ],
             [
              0.6666666666666666,
              "#ed7953"
             ],
             [
              0.7777777777777778,
              "#fb9f3a"
             ],
             [
              0.8888888888888888,
              "#fdca26"
             ],
             [
              1,
              "#f0f921"
             ]
            ],
            "type": "histogram2dcontour"
           }
          ],
          "mesh3d": [
           {
            "colorbar": {
             "outlinewidth": 0,
             "ticks": ""
            },
            "type": "mesh3d"
           }
          ],
          "parcoords": [
           {
            "line": {
             "colorbar": {
              "outlinewidth": 0,
              "ticks": ""
             }
            },
            "type": "parcoords"
           }
          ],
          "pie": [
           {
            "automargin": true,
            "type": "pie"
           }
          ],
          "scatter": [
           {
            "marker": {
             "colorbar": {
              "outlinewidth": 0,
              "ticks": ""
             }
            },
            "type": "scatter"
           }
          ],
          "scatter3d": [
           {
            "line": {
             "colorbar": {
              "outlinewidth": 0,
              "ticks": ""
             }
            },
            "marker": {
             "colorbar": {
              "outlinewidth": 0,
              "ticks": ""
             }
            },
            "type": "scatter3d"
           }
          ],
          "scattercarpet": [
           {
            "marker": {
             "colorbar": {
              "outlinewidth": 0,
              "ticks": ""
             }
            },
            "type": "scattercarpet"
           }
          ],
          "scattergeo": [
           {
            "marker": {
             "colorbar": {
              "outlinewidth": 0,
              "ticks": ""
             }
            },
            "type": "scattergeo"
           }
          ],
          "scattergl": [
           {
            "marker": {
             "colorbar": {
              "outlinewidth": 0,
              "ticks": ""
             }
            },
            "type": "scattergl"
           }
          ],
          "scattermapbox": [
           {
            "marker": {
             "colorbar": {
              "outlinewidth": 0,
              "ticks": ""
             }
            },
            "type": "scattermapbox"
           }
          ],
          "scatterpolar": [
           {
            "marker": {
             "colorbar": {
              "outlinewidth": 0,
              "ticks": ""
             }
            },
            "type": "scatterpolar"
           }
          ],
          "scatterpolargl": [
           {
            "marker": {
             "colorbar": {
              "outlinewidth": 0,
              "ticks": ""
             }
            },
            "type": "scatterpolargl"
           }
          ],
          "scatterternary": [
           {
            "marker": {
             "colorbar": {
              "outlinewidth": 0,
              "ticks": ""
             }
            },
            "type": "scatterternary"
           }
          ],
          "surface": [
           {
            "colorbar": {
             "outlinewidth": 0,
             "ticks": ""
            },
            "colorscale": [
             [
              0,
              "#0d0887"
             ],
             [
              0.1111111111111111,
              "#46039f"
             ],
             [
              0.2222222222222222,
              "#7201a8"
             ],
             [
              0.3333333333333333,
              "#9c179e"
             ],
             [
              0.4444444444444444,
              "#bd3786"
             ],
             [
              0.5555555555555556,
              "#d8576b"
             ],
             [
              0.6666666666666666,
              "#ed7953"
             ],
             [
              0.7777777777777778,
              "#fb9f3a"
             ],
             [
              0.8888888888888888,
              "#fdca26"
             ],
             [
              1,
              "#f0f921"
             ]
            ],
            "type": "surface"
           }
          ],
          "table": [
           {
            "cells": {
             "fill": {
              "color": "#EBF0F8"
             },
             "line": {
              "color": "white"
             }
            },
            "header": {
             "fill": {
              "color": "#C8D4E3"
             },
             "line": {
              "color": "white"
             }
            },
            "type": "table"
           }
          ]
         },
         "layout": {
          "annotationdefaults": {
           "arrowcolor": "#2a3f5f",
           "arrowhead": 0,
           "arrowwidth": 1
          },
          "autotypenumbers": "strict",
          "coloraxis": {
           "colorbar": {
            "outlinewidth": 0,
            "ticks": ""
           }
          },
          "colorscale": {
           "diverging": [
            [
             0,
             "#8e0152"
            ],
            [
             0.1,
             "#c51b7d"
            ],
            [
             0.2,
             "#de77ae"
            ],
            [
             0.3,
             "#f1b6da"
            ],
            [
             0.4,
             "#fde0ef"
            ],
            [
             0.5,
             "#f7f7f7"
            ],
            [
             0.6,
             "#e6f5d0"
            ],
            [
             0.7,
             "#b8e186"
            ],
            [
             0.8,
             "#7fbc41"
            ],
            [
             0.9,
             "#4d9221"
            ],
            [
             1,
             "#276419"
            ]
           ],
           "sequential": [
            [
             0,
             "#0d0887"
            ],
            [
             0.1111111111111111,
             "#46039f"
            ],
            [
             0.2222222222222222,
             "#7201a8"
            ],
            [
             0.3333333333333333,
             "#9c179e"
            ],
            [
             0.4444444444444444,
             "#bd3786"
            ],
            [
             0.5555555555555556,
             "#d8576b"
            ],
            [
             0.6666666666666666,
             "#ed7953"
            ],
            [
             0.7777777777777778,
             "#fb9f3a"
            ],
            [
             0.8888888888888888,
             "#fdca26"
            ],
            [
             1,
             "#f0f921"
            ]
           ],
           "sequentialminus": [
            [
             0,
             "#0d0887"
            ],
            [
             0.1111111111111111,
             "#46039f"
            ],
            [
             0.2222222222222222,
             "#7201a8"
            ],
            [
             0.3333333333333333,
             "#9c179e"
            ],
            [
             0.4444444444444444,
             "#bd3786"
            ],
            [
             0.5555555555555556,
             "#d8576b"
            ],
            [
             0.6666666666666666,
             "#ed7953"
            ],
            [
             0.7777777777777778,
             "#fb9f3a"
            ],
            [
             0.8888888888888888,
             "#fdca26"
            ],
            [
             1,
             "#f0f921"
            ]
           ]
          },
          "colorway": [
           "#636efa",
           "#EF553B",
           "#00cc96",
           "#ab63fa",
           "#FFA15A",
           "#19d3f3",
           "#FF6692",
           "#B6E880",
           "#FF97FF",
           "#FECB52"
          ],
          "font": {
           "color": "#2a3f5f"
          },
          "geo": {
           "bgcolor": "white",
           "lakecolor": "white",
           "landcolor": "#E5ECF6",
           "showlakes": true,
           "showland": true,
           "subunitcolor": "white"
          },
          "hoverlabel": {
           "align": "left"
          },
          "hovermode": "closest",
          "mapbox": {
           "style": "light"
          },
          "paper_bgcolor": "white",
          "plot_bgcolor": "#E5ECF6",
          "polar": {
           "angularaxis": {
            "gridcolor": "white",
            "linecolor": "white",
            "ticks": ""
           },
           "bgcolor": "#E5ECF6",
           "radialaxis": {
            "gridcolor": "white",
            "linecolor": "white",
            "ticks": ""
           }
          },
          "scene": {
           "xaxis": {
            "backgroundcolor": "#E5ECF6",
            "gridcolor": "white",
            "gridwidth": 2,
            "linecolor": "white",
            "showbackground": true,
            "ticks": "",
            "zerolinecolor": "white"
           },
           "yaxis": {
            "backgroundcolor": "#E5ECF6",
            "gridcolor": "white",
            "gridwidth": 2,
            "linecolor": "white",
            "showbackground": true,
            "ticks": "",
            "zerolinecolor": "white"
           },
           "zaxis": {
            "backgroundcolor": "#E5ECF6",
            "gridcolor": "white",
            "gridwidth": 2,
            "linecolor": "white",
            "showbackground": true,
            "ticks": "",
            "zerolinecolor": "white"
           }
          },
          "shapedefaults": {
           "line": {
            "color": "#2a3f5f"
           }
          },
          "ternary": {
           "aaxis": {
            "gridcolor": "white",
            "linecolor": "white",
            "ticks": ""
           },
           "baxis": {
            "gridcolor": "white",
            "linecolor": "white",
            "ticks": ""
           },
           "bgcolor": "#E5ECF6",
           "caxis": {
            "gridcolor": "white",
            "linecolor": "white",
            "ticks": ""
           }
          },
          "title": {
           "x": 0.05
          },
          "xaxis": {
           "automargin": true,
           "gridcolor": "white",
           "linecolor": "white",
           "ticks": "",
           "title": {
            "standoff": 15
           },
           "zerolinecolor": "white",
           "zerolinewidth": 2
          },
          "yaxis": {
           "automargin": true,
           "gridcolor": "white",
           "linecolor": "white",
           "ticks": "",
           "title": {
            "standoff": 15
           },
           "zerolinecolor": "white",
           "zerolinewidth": 2
          }
         }
        },
        "title": {
         "text": "提案數量分佈"
        }
       }
      },
      "text/html": [
       "<div>                            <div id=\"d7898556-1e49-4c37-8084-208aa4ee5346\" class=\"plotly-graph-div\" style=\"height:525px; width:100%;\"></div>            <script type=\"text/javascript\">                require([\"plotly\"], function(Plotly) {                    window.PLOTLYENV=window.PLOTLYENV || {};                                    if (document.getElementById(\"d7898556-1e49-4c37-8084-208aa4ee5346\")) {                    Plotly.newPlot(                        \"d7898556-1e49-4c37-8084-208aa4ee5346\",                        [{\"x\":[1,2,3,4,5,6,7,8,9,10,11,12],\"y\":[31,30,25,25,32,34,40,35,37,45,29,21],\"type\":\"scatter\"}],                        {\"template\":{\"data\":{\"barpolar\":[{\"marker\":{\"line\":{\"color\":\"#E5ECF6\",\"width\":0.5},\"pattern\":{\"fillmode\":\"overlay\",\"size\":10,\"solidity\":0.2}},\"type\":\"barpolar\"}],\"bar\":[{\"error_x\":{\"color\":\"#2a3f5f\"},\"error_y\":{\"color\":\"#2a3f5f\"},\"marker\":{\"line\":{\"color\":\"#E5ECF6\",\"width\":0.5},\"pattern\":{\"fillmode\":\"overlay\",\"size\":10,\"solidity\":0.2}},\"type\":\"bar\"}],\"carpet\":[{\"aaxis\":{\"endlinecolor\":\"#2a3f5f\",\"gridcolor\":\"white\",\"linecolor\":\"white\",\"minorgridcolor\":\"white\",\"startlinecolor\":\"#2a3f5f\"},\"baxis\":{\"endlinecolor\":\"#2a3f5f\",\"gridcolor\":\"white\",\"linecolor\":\"white\",\"minorgridcolor\":\"white\",\"startlinecolor\":\"#2a3f5f\"},\"type\":\"carpet\"}],\"choropleth\":[{\"colorbar\":{\"outlinewidth\":0,\"ticks\":\"\"},\"type\":\"choropleth\"}],\"contourcarpet\":[{\"colorbar\":{\"outlinewidth\":0,\"ticks\":\"\"},\"type\":\"contourcarpet\"}],\"contour\":[{\"colorbar\":{\"outlinewidth\":0,\"ticks\":\"\"},\"colorscale\":[[0.0,\"#0d0887\"],[0.1111111111111111,\"#46039f\"],[0.2222222222222222,\"#7201a8\"],[0.3333333333333333,\"#9c179e\"],[0.4444444444444444,\"#bd3786\"],[0.5555555555555556,\"#d8576b\"],[0.6666666666666666,\"#ed7953\"],[0.7777777777777778,\"#fb9f3a\"],[0.8888888888888888,\"#fdca26\"],[1.0,\"#f0f921\"]],\"type\":\"contour\"}],\"heatmapgl\":[{\"colorbar\":{\"outlinewidth\":0,\"ticks\":\"\"},\"colorscale\":[[0.0,\"#0d0887\"],[0.1111111111111111,\"#46039f\"],[0.2222222222222222,\"#7201a8\"],[0.3333333333333333,\"#9c179e\"],[0.4444444444444444,\"#bd3786\"],[0.5555555555555556,\"#d8576b\"],[0.6666666666666666,\"#ed7953\"],[0.7777777777777778,\"#fb9f3a\"],[0.8888888888888888,\"#fdca26\"],[1.0,\"#f0f921\"]],\"type\":\"heatmapgl\"}],\"heatmap\":[{\"colorbar\":{\"outlinewidth\":0,\"ticks\":\"\"},\"colorscale\":[[0.0,\"#0d0887\"],[0.1111111111111111,\"#46039f\"],[0.2222222222222222,\"#7201a8\"],[0.3333333333333333,\"#9c179e\"],[0.4444444444444444,\"#bd3786\"],[0.5555555555555556,\"#d8576b\"],[0.6666666666666666,\"#ed7953\"],[0.7777777777777778,\"#fb9f3a\"],[0.8888888888888888,\"#fdca26\"],[1.0,\"#f0f921\"]],\"type\":\"heatmap\"}],\"histogram2dcontour\":[{\"colorbar\":{\"outlinewidth\":0,\"ticks\":\"\"},\"colorscale\":[[0.0,\"#0d0887\"],[0.1111111111111111,\"#46039f\"],[0.2222222222222222,\"#7201a8\"],[0.3333333333333333,\"#9c179e\"],[0.4444444444444444,\"#bd3786\"],[0.5555555555555556,\"#d8576b\"],[0.6666666666666666,\"#ed7953\"],[0.7777777777777778,\"#fb9f3a\"],[0.8888888888888888,\"#fdca26\"],[1.0,\"#f0f921\"]],\"type\":\"histogram2dcontour\"}],\"histogram2d\":[{\"colorbar\":{\"outlinewidth\":0,\"ticks\":\"\"},\"colorscale\":[[0.0,\"#0d0887\"],[0.1111111111111111,\"#46039f\"],[0.2222222222222222,\"#7201a8\"],[0.3333333333333333,\"#9c179e\"],[0.4444444444444444,\"#bd3786\"],[0.5555555555555556,\"#d8576b\"],[0.6666666666666666,\"#ed7953\"],[0.7777777777777778,\"#fb9f3a\"],[0.8888888888888888,\"#fdca26\"],[1.0,\"#f0f921\"]],\"type\":\"histogram2d\"}],\"histogram\":[{\"marker\":{\"pattern\":{\"fillmode\":\"overlay\",\"size\":10,\"solidity\":0.2}},\"type\":\"histogram\"}],\"mesh3d\":[{\"colorbar\":{\"outlinewidth\":0,\"ticks\":\"\"},\"type\":\"mesh3d\"}],\"parcoords\":[{\"line\":{\"colorbar\":{\"outlinewidth\":0,\"ticks\":\"\"}},\"type\":\"parcoords\"}],\"pie\":[{\"automargin\":true,\"type\":\"pie\"}],\"scatter3d\":[{\"line\":{\"colorbar\":{\"outlinewidth\":0,\"ticks\":\"\"}},\"marker\":{\"colorbar\":{\"outlinewidth\":0,\"ticks\":\"\"}},\"type\":\"scatter3d\"}],\"scattercarpet\":[{\"marker\":{\"colorbar\":{\"outlinewidth\":0,\"ticks\":\"\"}},\"type\":\"scattercarpet\"}],\"scattergeo\":[{\"marker\":{\"colorbar\":{\"outlinewidth\":0,\"ticks\":\"\"}},\"type\":\"scattergeo\"}],\"scattergl\":[{\"marker\":{\"colorbar\":{\"outlinewidth\":0,\"ticks\":\"\"}},\"type\":\"scattergl\"}],\"scattermapbox\":[{\"marker\":{\"colorbar\":{\"outlinewidth\":0,\"ticks\":\"\"}},\"type\":\"scattermapbox\"}],\"scatterpolargl\":[{\"marker\":{\"colorbar\":{\"outlinewidth\":0,\"ticks\":\"\"}},\"type\":\"scatterpolargl\"}],\"scatterpolar\":[{\"marker\":{\"colorbar\":{\"outlinewidth\":0,\"ticks\":\"\"}},\"type\":\"scatterpolar\"}],\"scatter\":[{\"marker\":{\"colorbar\":{\"outlinewidth\":0,\"ticks\":\"\"}},\"type\":\"scatter\"}],\"scatterternary\":[{\"marker\":{\"colorbar\":{\"outlinewidth\":0,\"ticks\":\"\"}},\"type\":\"scatterternary\"}],\"surface\":[{\"colorbar\":{\"outlinewidth\":0,\"ticks\":\"\"},\"colorscale\":[[0.0,\"#0d0887\"],[0.1111111111111111,\"#46039f\"],[0.2222222222222222,\"#7201a8\"],[0.3333333333333333,\"#9c179e\"],[0.4444444444444444,\"#bd3786\"],[0.5555555555555556,\"#d8576b\"],[0.6666666666666666,\"#ed7953\"],[0.7777777777777778,\"#fb9f3a\"],[0.8888888888888888,\"#fdca26\"],[1.0,\"#f0f921\"]],\"type\":\"surface\"}],\"table\":[{\"cells\":{\"fill\":{\"color\":\"#EBF0F8\"},\"line\":{\"color\":\"white\"}},\"header\":{\"fill\":{\"color\":\"#C8D4E3\"},\"line\":{\"color\":\"white\"}},\"type\":\"table\"}]},\"layout\":{\"annotationdefaults\":{\"arrowcolor\":\"#2a3f5f\",\"arrowhead\":0,\"arrowwidth\":1},\"autotypenumbers\":\"strict\",\"coloraxis\":{\"colorbar\":{\"outlinewidth\":0,\"ticks\":\"\"}},\"colorscale\":{\"diverging\":[[0,\"#8e0152\"],[0.1,\"#c51b7d\"],[0.2,\"#de77ae\"],[0.3,\"#f1b6da\"],[0.4,\"#fde0ef\"],[0.5,\"#f7f7f7\"],[0.6,\"#e6f5d0\"],[0.7,\"#b8e186\"],[0.8,\"#7fbc41\"],[0.9,\"#4d9221\"],[1,\"#276419\"]],\"sequential\":[[0.0,\"#0d0887\"],[0.1111111111111111,\"#46039f\"],[0.2222222222222222,\"#7201a8\"],[0.3333333333333333,\"#9c179e\"],[0.4444444444444444,\"#bd3786\"],[0.5555555555555556,\"#d8576b\"],[0.6666666666666666,\"#ed7953\"],[0.7777777777777778,\"#fb9f3a\"],[0.8888888888888888,\"#fdca26\"],[1.0,\"#f0f921\"]],\"sequentialminus\":[[0.0,\"#0d0887\"],[0.1111111111111111,\"#46039f\"],[0.2222222222222222,\"#7201a8\"],[0.3333333333333333,\"#9c179e\"],[0.4444444444444444,\"#bd3786\"],[0.5555555555555556,\"#d8576b\"],[0.6666666666666666,\"#ed7953\"],[0.7777777777777778,\"#fb9f3a\"],[0.8888888888888888,\"#fdca26\"],[1.0,\"#f0f921\"]]},\"colorway\":[\"#636efa\",\"#EF553B\",\"#00cc96\",\"#ab63fa\",\"#FFA15A\",\"#19d3f3\",\"#FF6692\",\"#B6E880\",\"#FF97FF\",\"#FECB52\"],\"font\":{\"color\":\"#2a3f5f\"},\"geo\":{\"bgcolor\":\"white\",\"lakecolor\":\"white\",\"landcolor\":\"#E5ECF6\",\"showlakes\":true,\"showland\":true,\"subunitcolor\":\"white\"},\"hoverlabel\":{\"align\":\"left\"},\"hovermode\":\"closest\",\"mapbox\":{\"style\":\"light\"},\"paper_bgcolor\":\"white\",\"plot_bgcolor\":\"#E5ECF6\",\"polar\":{\"angularaxis\":{\"gridcolor\":\"white\",\"linecolor\":\"white\",\"ticks\":\"\"},\"bgcolor\":\"#E5ECF6\",\"radialaxis\":{\"gridcolor\":\"white\",\"linecolor\":\"white\",\"ticks\":\"\"}},\"scene\":{\"xaxis\":{\"backgroundcolor\":\"#E5ECF6\",\"gridcolor\":\"white\",\"gridwidth\":2,\"linecolor\":\"white\",\"showbackground\":true,\"ticks\":\"\",\"zerolinecolor\":\"white\"},\"yaxis\":{\"backgroundcolor\":\"#E5ECF6\",\"gridcolor\":\"white\",\"gridwidth\":2,\"linecolor\":\"white\",\"showbackground\":true,\"ticks\":\"\",\"zerolinecolor\":\"white\"},\"zaxis\":{\"backgroundcolor\":\"#E5ECF6\",\"gridcolor\":\"white\",\"gridwidth\":2,\"linecolor\":\"white\",\"showbackground\":true,\"ticks\":\"\",\"zerolinecolor\":\"white\"}},\"shapedefaults\":{\"line\":{\"color\":\"#2a3f5f\"}},\"ternary\":{\"aaxis\":{\"gridcolor\":\"white\",\"linecolor\":\"white\",\"ticks\":\"\"},\"baxis\":{\"gridcolor\":\"white\",\"linecolor\":\"white\",\"ticks\":\"\"},\"bgcolor\":\"#E5ECF6\",\"caxis\":{\"gridcolor\":\"white\",\"linecolor\":\"white\",\"ticks\":\"\"}},\"title\":{\"x\":0.05},\"xaxis\":{\"automargin\":true,\"gridcolor\":\"white\",\"linecolor\":\"white\",\"ticks\":\"\",\"title\":{\"standoff\":15},\"zerolinecolor\":\"white\",\"zerolinewidth\":2},\"yaxis\":{\"automargin\":true,\"gridcolor\":\"white\",\"linecolor\":\"white\",\"ticks\":\"\",\"title\":{\"standoff\":15},\"zerolinecolor\":\"white\",\"zerolinewidth\":2}}},\"title\":{\"text\":\"\\u63d0\\u6848\\u6578\\u91cf\\u5206\\u4f48\"}},                        {\"responsive\": true}                    ).then(function(){\n",
       "                            \n",
       "var gd = document.getElementById('d7898556-1e49-4c37-8084-208aa4ee5346');\n",
       "var x = new MutationObserver(function (mutations, observer) {{\n",
       "        var display = window.getComputedStyle(gd).display;\n",
       "        if (!display || display === 'none') {{\n",
       "            console.log([gd, 'removed!']);\n",
       "            Plotly.purge(gd);\n",
       "            observer.disconnect();\n",
       "        }}\n",
       "}});\n",
       "\n",
       "// Listen for the removal of the full notebook cells\n",
       "var notebookContainer = gd.closest('#notebook-container');\n",
       "if (notebookContainer) {{\n",
       "    x.observe(notebookContainer, {childList: true});\n",
       "}}\n",
       "\n",
       "// Listen for the clearing of the current output cell\n",
       "var outputEl = gd.closest('.output');\n",
       "if (outputEl) {{\n",
       "    x.observe(outputEl, {childList: true});\n",
       "}}\n",
       "\n",
       "                        })                };                });            </script>        </div>"
      ]
     },
     "metadata": {},
     "output_type": "display_data"
    }
   ],
   "source": [
    "data=[go.Scatter(\n",
    "x=df.groupby(df.pro_month).have.sum().index,\n",
    "    y=df.groupby(df.pro_month).have.sum())]\n",
    "\n",
    "layout=dict(\n",
    "title=\"提案數量分佈\")\n",
    "\n",
    "fig=dict(data=data,layout=layout)\n",
    "py.iplot(fig)\n",
    "#七月、十月 課程上線數量最多"
   ]
  },
  {
   "cell_type": "code",
   "execution_count": 117,
   "id": "30db22ff",
   "metadata": {},
   "outputs": [
    {
     "data": {
      "text/plain": [
       "Text(0.5, 6.800000000000001, 'threshold')"
      ]
     },
     "execution_count": 117,
     "metadata": {},
     "output_type": "execute_result"
    },
    {
     "data": {
      "text/plain": [
       "<Figure size 1080x576 with 0 Axes>"
      ]
     },
     "metadata": {},
     "output_type": "display_data"
    },
    {
     "data": {
      "image/png": "[encoded data removed]",
      "text/plain": [
       "<Figure size 360x360 with 1 Axes>"
      ]
     },
     "metadata": {},
     "output_type": "display_data"
    }
   ],
   "source": [
    "plt.style.use(\"ggplot\")\n",
    "plt.figure(figsize=(15,8))\n",
    "sns.displot(df.successCriti,kde=True)\n",
    "plt.title(\"the min. request of opening class 30/50/100\",fontsize=20)\n",
    "plt.xlabel(\"threshold\",fontsize=20)\n",
    "#預售時30人開班的課程最多"
   ]
  },
  {
   "cell_type": "code",
   "execution_count": 118,
   "id": "423d5422",
   "metadata": {},
   "outputs": [
    {
     "data": {
      "text/html": [
       "<div>\n",
       "<style scoped>\n",
       "    .dataframe tbody tr th:only-of-type {\n",
       "        vertical-align: middle;\n",
       "    }\n",
       "\n",
       "    .dataframe tbody tr th {\n",
       "        vertical-align: top;\n",
       "    }\n",
       "\n",
       "    .dataframe thead th {\n",
       "        text-align: right;\n",
       "    }\n",
       "</style>\n",
       "<table border=\"1\" class=\"dataframe\">\n",
       "  <thead>\n",
       "    <tr style=\"text-align: right;\">\n",
       "      <th></th>\n",
       "      <th>Unnamed: 0</th>\n",
       "      <th>title</th>\n",
       "      <th>author</th>\n",
       "      <th>proposal</th>\n",
       "      <th>incubate</th>\n",
       "      <th>estimateStart</th>\n",
       "      <th>startCapital</th>\n",
       "      <th>types</th>\n",
       "      <th>ratings</th>\n",
       "      <th>avg_ratings</th>\n",
       "      <th>isReject</th>\n",
       "      <th>successCriti</th>\n",
       "      <th>prePrice</th>\n",
       "      <th>price</th>\n",
       "      <th>review</th>\n",
       "      <th>status</th>\n",
       "      <th>solidTickets</th>\n",
       "      <th>pro_month</th>\n",
       "      <th>have</th>\n",
       "      <th>await</th>\n",
       "    </tr>\n",
       "  </thead>\n",
       "  <tbody>\n",
       "    <tr>\n",
       "      <th>180</th>\n",
       "      <td>180</td>\n",
       "      <td>用 Python 理財：打造小資族選股策略</td>\n",
       "      <td>FinLab</td>\n",
       "      <td>2018-03-23</td>\n",
       "      <td>2018-02-22</td>\n",
       "      <td>2018-05-22</td>\n",
       "      <td>NaN</td>\n",
       "      <td>[]</td>\n",
       "      <td>425</td>\n",
       "      <td>4.98</td>\n",
       "      <td>False</td>\n",
       "      <td>30</td>\n",
       "      <td>1999</td>\n",
       "      <td>3200</td>\n",
       "      <td>False</td>\n",
       "      <td>PUBLISHED</td>\n",
       "      <td>5529</td>\n",
       "      <td>3</td>\n",
       "      <td>1</td>\n",
       "      <td>184.300000</td>\n",
       "    </tr>\n",
       "    <tr>\n",
       "      <th>320</th>\n",
       "      <td>320</td>\n",
       "      <td>讓圖不只是好看的－資訊設計思考力！</td>\n",
       "      <td>圖文不符</td>\n",
       "      <td>2016-06-08</td>\n",
       "      <td>2016-05-09</td>\n",
       "      <td>2016-08-07</td>\n",
       "      <td>NaN</td>\n",
       "      <td>[]</td>\n",
       "      <td>213</td>\n",
       "      <td>4.60</td>\n",
       "      <td>False</td>\n",
       "      <td>100</td>\n",
       "      <td>990</td>\n",
       "      <td>1800</td>\n",
       "      <td>False</td>\n",
       "      <td>PUBLISHED</td>\n",
       "      <td>13581</td>\n",
       "      <td>6</td>\n",
       "      <td>1</td>\n",
       "      <td>135.810000</td>\n",
       "    </tr>\n",
       "    <tr>\n",
       "      <th>314</th>\n",
       "      <td>314</td>\n",
       "      <td>動畫互動網頁程式入門 (HTML/CSS/JS)</td>\n",
       "      <td>吳哲宇</td>\n",
       "      <td>2016-07-03</td>\n",
       "      <td>2016-06-03</td>\n",
       "      <td>2016-09-01</td>\n",
       "      <td>NaN</td>\n",
       "      <td>[]</td>\n",
       "      <td>262</td>\n",
       "      <td>4.97</td>\n",
       "      <td>False</td>\n",
       "      <td>50</td>\n",
       "      <td>1000</td>\n",
       "      <td>2000</td>\n",
       "      <td>False</td>\n",
       "      <td>PUBLISHED</td>\n",
       "      <td>5933</td>\n",
       "      <td>7</td>\n",
       "      <td>1</td>\n",
       "      <td>118.660000</td>\n",
       "    </tr>\n",
       "    <tr>\n",
       "      <th>66</th>\n",
       "      <td>66</td>\n",
       "      <td>用 Python 理財：打造自己的 AI 股票理專</td>\n",
       "      <td>FinLab</td>\n",
       "      <td>2019-04-18</td>\n",
       "      <td>2019-03-20</td>\n",
       "      <td>2019-06-17</td>\n",
       "      <td>NaN</td>\n",
       "      <td>[]</td>\n",
       "      <td>56</td>\n",
       "      <td>4.95</td>\n",
       "      <td>False</td>\n",
       "      <td>30</td>\n",
       "      <td>2499</td>\n",
       "      <td>3999</td>\n",
       "      <td>False</td>\n",
       "      <td>PUBLISHED</td>\n",
       "      <td>2332</td>\n",
       "      <td>4</td>\n",
       "      <td>1</td>\n",
       "      <td>77.733333</td>\n",
       "    </tr>\n",
       "    <tr>\n",
       "      <th>243</th>\n",
       "      <td>243</td>\n",
       "      <td>從入門到業界實戰 - UI / UX 前端網頁設計</td>\n",
       "      <td>Louis</td>\n",
       "      <td>2017-05-27</td>\n",
       "      <td>2017-04-27</td>\n",
       "      <td>2017-07-11</td>\n",
       "      <td>NaN</td>\n",
       "      <td>[]</td>\n",
       "      <td>80</td>\n",
       "      <td>4.80</td>\n",
       "      <td>False</td>\n",
       "      <td>30</td>\n",
       "      <td>650</td>\n",
       "      <td>2500</td>\n",
       "      <td>False</td>\n",
       "      <td>PUBLISHED</td>\n",
       "      <td>2317</td>\n",
       "      <td>5</td>\n",
       "      <td>1</td>\n",
       "      <td>77.233333</td>\n",
       "    </tr>\n",
       "    <tr>\n",
       "      <th>75</th>\n",
       "      <td>75</td>\n",
       "      <td>百萬 YouTuber 阿滴－攻心剪輯術！</td>\n",
       "      <td>阿滴 x 圖文不符</td>\n",
       "      <td>2019-03-19</td>\n",
       "      <td>2019-02-18</td>\n",
       "      <td>2019-05-18</td>\n",
       "      <td>2019-02-18T04:00:00.000Z</td>\n",
       "      <td>['PHYSICAL', 'DIGITAL']</td>\n",
       "      <td>237</td>\n",
       "      <td>4.92</td>\n",
       "      <td>False</td>\n",
       "      <td>100</td>\n",
       "      <td>1200</td>\n",
       "      <td>1800</td>\n",
       "      <td>False</td>\n",
       "      <td>PUBLISHED</td>\n",
       "      <td>7619</td>\n",
       "      <td>3</td>\n",
       "      <td>1</td>\n",
       "      <td>76.190000</td>\n",
       "    </tr>\n",
       "    <tr>\n",
       "      <th>175</th>\n",
       "      <td>175</td>\n",
       "      <td>從上手到專業，寫出你想要的文案效果</td>\n",
       "      <td>林育聖</td>\n",
       "      <td>2018-04-04</td>\n",
       "      <td>2018-03-06</td>\n",
       "      <td>2018-05-04</td>\n",
       "      <td>NaN</td>\n",
       "      <td>[]</td>\n",
       "      <td>82</td>\n",
       "      <td>4.83</td>\n",
       "      <td>False</td>\n",
       "      <td>30</td>\n",
       "      <td>1280</td>\n",
       "      <td>1680</td>\n",
       "      <td>False</td>\n",
       "      <td>PUBLISHED</td>\n",
       "      <td>2247</td>\n",
       "      <td>4</td>\n",
       "      <td>1</td>\n",
       "      <td>74.900000</td>\n",
       "    </tr>\n",
       "    <tr>\n",
       "      <th>280</th>\n",
       "      <td>280</td>\n",
       "      <td>比ㄅㄆㄇ簡單的韓語發音</td>\n",
       "      <td>王稚鈞</td>\n",
       "      <td>2016-11-05</td>\n",
       "      <td>2016-10-06</td>\n",
       "      <td>2016-11-30</td>\n",
       "      <td>NaN</td>\n",
       "      <td>[]</td>\n",
       "      <td>84</td>\n",
       "      <td>5.00</td>\n",
       "      <td>False</td>\n",
       "      <td>50</td>\n",
       "      <td>990</td>\n",
       "      <td>1590</td>\n",
       "      <td>False</td>\n",
       "      <td>PUBLISHED</td>\n",
       "      <td>3530</td>\n",
       "      <td>11</td>\n",
       "      <td>1</td>\n",
       "      <td>70.600000</td>\n",
       "    </tr>\n",
       "    <tr>\n",
       "      <th>339</th>\n",
       "      <td>339</td>\n",
       "      <td>AE/MG || 動畫特效 Vol.1</td>\n",
       "      <td>Yan-K</td>\n",
       "      <td>2016-03-24</td>\n",
       "      <td>2016-02-23</td>\n",
       "      <td>2016-04-30</td>\n",
       "      <td>NaN</td>\n",
       "      <td>[]</td>\n",
       "      <td>149</td>\n",
       "      <td>4.86</td>\n",
       "      <td>False</td>\n",
       "      <td>50</td>\n",
       "      <td>1000</td>\n",
       "      <td>1500</td>\n",
       "      <td>False</td>\n",
       "      <td>PUBLISHED</td>\n",
       "      <td>3395</td>\n",
       "      <td>3</td>\n",
       "      <td>1</td>\n",
       "      <td>67.900000</td>\n",
       "    </tr>\n",
       "    <tr>\n",
       "      <th>49</th>\n",
       "      <td>49</td>\n",
       "      <td>聲入人心-周震宇的人聲必修課</td>\n",
       "      <td>周震宇</td>\n",
       "      <td>2019-06-19</td>\n",
       "      <td>2019-05-21</td>\n",
       "      <td>2019-08-18</td>\n",
       "      <td>2019-05-20T16:00:00.000Z</td>\n",
       "      <td>['DIGITAL']</td>\n",
       "      <td>19</td>\n",
       "      <td>5.00</td>\n",
       "      <td>False</td>\n",
       "      <td>30</td>\n",
       "      <td>1680</td>\n",
       "      <td>2680</td>\n",
       "      <td>False</td>\n",
       "      <td>PUBLISHED</td>\n",
       "      <td>1938</td>\n",
       "      <td>6</td>\n",
       "      <td>1</td>\n",
       "      <td>64.600000</td>\n",
       "    </tr>\n",
       "    <tr>\n",
       "      <th>239</th>\n",
       "      <td>239</td>\n",
       "      <td>動畫互動網頁特效入門（JS/CANVAS）</td>\n",
       "      <td>吳哲宇</td>\n",
       "      <td>2017-06-17</td>\n",
       "      <td>2017-05-18</td>\n",
       "      <td>2017-08-16</td>\n",
       "      <td>NaN</td>\n",
       "      <td>[]</td>\n",
       "      <td>88</td>\n",
       "      <td>5.00</td>\n",
       "      <td>False</td>\n",
       "      <td>50</td>\n",
       "      <td>1600</td>\n",
       "      <td>2000</td>\n",
       "      <td>False</td>\n",
       "      <td>PUBLISHED</td>\n",
       "      <td>2853</td>\n",
       "      <td>6</td>\n",
       "      <td>1</td>\n",
       "      <td>57.060000</td>\n",
       "    </tr>\n",
       "    <tr>\n",
       "      <th>323</th>\n",
       "      <td>323</td>\n",
       "      <td>精準設計：PowerPoint 實戰技巧</td>\n",
       "      <td>彭毅弘 Bill</td>\n",
       "      <td>2016-05-31</td>\n",
       "      <td>2016-05-01</td>\n",
       "      <td>2016-07-30</td>\n",
       "      <td>NaN</td>\n",
       "      <td>[]</td>\n",
       "      <td>99</td>\n",
       "      <td>4.98</td>\n",
       "      <td>False</td>\n",
       "      <td>30</td>\n",
       "      <td>500</td>\n",
       "      <td>900</td>\n",
       "      <td>False</td>\n",
       "      <td>PUBLISHED</td>\n",
       "      <td>1707</td>\n",
       "      <td>5</td>\n",
       "      <td>1</td>\n",
       "      <td>56.900000</td>\n",
       "    </tr>\n",
       "    <tr>\n",
       "      <th>206</th>\n",
       "      <td>206</td>\n",
       "      <td>社群力：30 堂課突破你的內容行銷盲點！</td>\n",
       "      <td>圖文不符</td>\n",
       "      <td>2017-11-15</td>\n",
       "      <td>2017-10-17</td>\n",
       "      <td>2018-01-14</td>\n",
       "      <td>NaN</td>\n",
       "      <td>[]</td>\n",
       "      <td>129</td>\n",
       "      <td>4.95</td>\n",
       "      <td>False</td>\n",
       "      <td>100</td>\n",
       "      <td>1880</td>\n",
       "      <td>2400</td>\n",
       "      <td>False</td>\n",
       "      <td>PUBLISHED</td>\n",
       "      <td>5508</td>\n",
       "      <td>11</td>\n",
       "      <td>1</td>\n",
       "      <td>55.080000</td>\n",
       "    </tr>\n",
       "    <tr>\n",
       "      <th>240</th>\n",
       "      <td>240</td>\n",
       "      <td>不必下蠱的人心攻略術 — 小說實戰技術</td>\n",
       "      <td>朱宥勳</td>\n",
       "      <td>2017-06-04</td>\n",
       "      <td>2017-05-05</td>\n",
       "      <td>2017-08-03</td>\n",
       "      <td>NaN</td>\n",
       "      <td>[]</td>\n",
       "      <td>101</td>\n",
       "      <td>4.98</td>\n",
       "      <td>False</td>\n",
       "      <td>30</td>\n",
       "      <td>800</td>\n",
       "      <td>1500</td>\n",
       "      <td>False</td>\n",
       "      <td>PUBLISHED</td>\n",
       "      <td>1642</td>\n",
       "      <td>6</td>\n",
       "      <td>1</td>\n",
       "      <td>54.733333</td>\n",
       "    </tr>\n",
       "    <tr>\n",
       "      <th>328</th>\n",
       "      <td>328</td>\n",
       "      <td>丟掉 Word，進入 InDesign 的排版世界</td>\n",
       "      <td>林協霆</td>\n",
       "      <td>2016-05-10</td>\n",
       "      <td>2016-04-10</td>\n",
       "      <td>2016-06-06</td>\n",
       "      <td>NaN</td>\n",
       "      <td>[]</td>\n",
       "      <td>60</td>\n",
       "      <td>4.85</td>\n",
       "      <td>False</td>\n",
       "      <td>30</td>\n",
       "      <td>750</td>\n",
       "      <td>1000</td>\n",
       "      <td>False</td>\n",
       "      <td>PUBLISHED</td>\n",
       "      <td>1626</td>\n",
       "      <td>5</td>\n",
       "      <td>1</td>\n",
       "      <td>54.200000</td>\n",
       "    </tr>\n",
       "    <tr>\n",
       "      <th>210</th>\n",
       "      <td>210</td>\n",
       "      <td>【Illustrator / Ai 入門】五小時保證上手</td>\n",
       "      <td>李宇哲｜蒟蒻</td>\n",
       "      <td>2017-10-24</td>\n",
       "      <td>2017-09-25</td>\n",
       "      <td>2017-12-23</td>\n",
       "      <td>NaN</td>\n",
       "      <td>[]</td>\n",
       "      <td>117</td>\n",
       "      <td>4.94</td>\n",
       "      <td>False</td>\n",
       "      <td>30</td>\n",
       "      <td>990</td>\n",
       "      <td>1590</td>\n",
       "      <td>False</td>\n",
       "      <td>PUBLISHED</td>\n",
       "      <td>1573</td>\n",
       "      <td>10</td>\n",
       "      <td>1</td>\n",
       "      <td>52.433333</td>\n",
       "    </tr>\n",
       "    <tr>\n",
       "      <th>136</th>\n",
       "      <td>136</td>\n",
       "      <td>實用Photoshop- 入門到大師，紮實範例</td>\n",
       "      <td>timmo</td>\n",
       "      <td>2018-08-23</td>\n",
       "      <td>2018-07-25</td>\n",
       "      <td>2018-10-22</td>\n",
       "      <td>NaN</td>\n",
       "      <td>[]</td>\n",
       "      <td>73</td>\n",
       "      <td>4.99</td>\n",
       "      <td>False</td>\n",
       "      <td>30</td>\n",
       "      <td>1280</td>\n",
       "      <td>2046</td>\n",
       "      <td>False</td>\n",
       "      <td>PUBLISHED</td>\n",
       "      <td>1559</td>\n",
       "      <td>8</td>\n",
       "      <td>1</td>\n",
       "      <td>51.966667</td>\n",
       "    </tr>\n",
       "    <tr>\n",
       "      <th>176</th>\n",
       "      <td>176</td>\n",
       "      <td>Adobe XD / PS  —  網頁設計 與 UI 教學</td>\n",
       "      <td>Ellie</td>\n",
       "      <td>2018-03-31</td>\n",
       "      <td>2018-03-02</td>\n",
       "      <td>2018-05-30</td>\n",
       "      <td>NaN</td>\n",
       "      <td>[]</td>\n",
       "      <td>70</td>\n",
       "      <td>4.81</td>\n",
       "      <td>False</td>\n",
       "      <td>30</td>\n",
       "      <td>990</td>\n",
       "      <td>1990</td>\n",
       "      <td>False</td>\n",
       "      <td>PUBLISHED</td>\n",
       "      <td>1534</td>\n",
       "      <td>3</td>\n",
       "      <td>1</td>\n",
       "      <td>51.133333</td>\n",
       "    </tr>\n",
       "    <tr>\n",
       "      <th>242</th>\n",
       "      <td>242</td>\n",
       "      <td>如何練習動漫速寫</td>\n",
       "      <td>空罐王</td>\n",
       "      <td>2017-05-29</td>\n",
       "      <td>2017-04-29</td>\n",
       "      <td>2017-07-28</td>\n",
       "      <td>NaN</td>\n",
       "      <td>[]</td>\n",
       "      <td>120</td>\n",
       "      <td>4.88</td>\n",
       "      <td>False</td>\n",
       "      <td>30</td>\n",
       "      <td>500</td>\n",
       "      <td>600</td>\n",
       "      <td>False</td>\n",
       "      <td>PUBLISHED</td>\n",
       "      <td>1521</td>\n",
       "      <td>5</td>\n",
       "      <td>1</td>\n",
       "      <td>50.700000</td>\n",
       "    </tr>\n",
       "    <tr>\n",
       "      <th>145</th>\n",
       "      <td>145</td>\n",
       "      <td>掌握英文8原則-自學英文的最短路徑</td>\n",
       "      <td>Eli</td>\n",
       "      <td>2018-07-25</td>\n",
       "      <td>2018-06-26</td>\n",
       "      <td>2018-09-23</td>\n",
       "      <td>NaN</td>\n",
       "      <td>[]</td>\n",
       "      <td>66</td>\n",
       "      <td>4.94</td>\n",
       "      <td>False</td>\n",
       "      <td>30</td>\n",
       "      <td>990</td>\n",
       "      <td>1500</td>\n",
       "      <td>False</td>\n",
       "      <td>PUBLISHED</td>\n",
       "      <td>1455</td>\n",
       "      <td>7</td>\n",
       "      <td>1</td>\n",
       "      <td>48.500000</td>\n",
       "    </tr>\n",
       "  </tbody>\n",
       "</table>\n",
       "</div>"
      ],
      "text/plain": [
       "     Unnamed: 0                           title     author    proposal  \\\n",
       "180         180           用 Python 理財：打造小資族選股策略     FinLab  2018-03-23   \n",
       "320         320               讓圖不只是好看的－資訊設計思考力！       圖文不符  2016-06-08   \n",
       "314         314        動畫互動網頁程式入門 (HTML/CSS/JS)        吳哲宇  2016-07-03   \n",
       "66           66       用 Python 理財：打造自己的 AI 股票理專     FinLab  2019-04-18   \n",
       "243         243       從入門到業界實戰 - UI / UX 前端網頁設計      Louis  2017-05-27   \n",
       "75           75           百萬 YouTuber 阿滴－攻心剪輯術！  阿滴 x 圖文不符  2019-03-19   \n",
       "175         175               從上手到專業，寫出你想要的文案效果        林育聖  2018-04-04   \n",
       "280         280                     比ㄅㄆㄇ簡單的韓語發音        王稚鈞  2016-11-05   \n",
       "339         339             AE/MG || 動畫特效 Vol.1      Yan-K  2016-03-24   \n",
       "49           49                  聲入人心-周震宇的人聲必修課        周震宇  2019-06-19   \n",
       "239         239           動畫互動網頁特效入門（JS/CANVAS）        吳哲宇  2017-06-17   \n",
       "323         323            精準設計：PowerPoint 實戰技巧   彭毅弘 Bill  2016-05-31   \n",
       "206         206            社群力：30 堂課突破你的內容行銷盲點！       圖文不符  2017-11-15   \n",
       "240         240             不必下蠱的人心攻略術 — 小說實戰技術        朱宥勳  2017-06-04   \n",
       "328         328       丟掉 Word，進入 InDesign 的排版世界        林協霆  2016-05-10   \n",
       "210         210    【Illustrator / Ai 入門】五小時保證上手     李宇哲｜蒟蒻  2017-10-24   \n",
       "136         136         實用Photoshop- 入門到大師，紮實範例      timmo  2018-08-23   \n",
       "176         176  Adobe XD / PS  —  網頁設計 與 UI 教學      Ellie  2018-03-31   \n",
       "242         242                        如何練習動漫速寫        空罐王  2017-05-29   \n",
       "145         145               掌握英文8原則-自學英文的最短路徑        Eli  2018-07-25   \n",
       "\n",
       "       incubate estimateStart              startCapital  \\\n",
       "180  2018-02-22    2018-05-22                       NaN   \n",
       "320  2016-05-09    2016-08-07                       NaN   \n",
       "314  2016-06-03    2016-09-01                       NaN   \n",
       "66   2019-03-20    2019-06-17                       NaN   \n",
       "243  2017-04-27    2017-07-11                       NaN   \n",
       "75   2019-02-18    2019-05-18  2019-02-18T04:00:00.000Z   \n",
       "175  2018-03-06    2018-05-04                       NaN   \n",
       "280  2016-10-06    2016-11-30                       NaN   \n",
       "339  2016-02-23    2016-04-30                       NaN   \n",
       "49   2019-05-21    2019-08-18  2019-05-20T16:00:00.000Z   \n",
       "239  2017-05-18    2017-08-16                       NaN   \n",
       "323  2016-05-01    2016-07-30                       NaN   \n",
       "206  2017-10-17    2018-01-14                       NaN   \n",
       "240  2017-05-05    2017-08-03                       NaN   \n",
       "328  2016-04-10    2016-06-06                       NaN   \n",
       "210  2017-09-25    2017-12-23                       NaN   \n",
       "136  2018-07-25    2018-10-22                       NaN   \n",
       "176  2018-03-02    2018-05-30                       NaN   \n",
       "242  2017-04-29    2017-07-28                       NaN   \n",
       "145  2018-06-26    2018-09-23                       NaN   \n",
       "\n",
       "                       types  ratings  avg_ratings  isReject  successCriti  \\\n",
       "180                       []      425         4.98     False            30   \n",
       "320                       []      213         4.60     False           100   \n",
       "314                       []      262         4.97     False            50   \n",
       "66                        []       56         4.95     False            30   \n",
       "243                       []       80         4.80     False            30   \n",
       "75   ['PHYSICAL', 'DIGITAL']      237         4.92     False           100   \n",
       "175                       []       82         4.83     False            30   \n",
       "280                       []       84         5.00     False            50   \n",
       "339                       []      149         4.86     False            50   \n",
       "49               ['DIGITAL']       19         5.00     False            30   \n",
       "239                       []       88         5.00     False            50   \n",
       "323                       []       99         4.98     False            30   \n",
       "206                       []      129         4.95     False           100   \n",
       "240                       []      101         4.98     False            30   \n",
       "328                       []       60         4.85     False            30   \n",
       "210                       []      117         4.94     False            30   \n",
       "136                       []       73         4.99     False            30   \n",
       "176                       []       70         4.81     False            30   \n",
       "242                       []      120         4.88     False            30   \n",
       "145                       []       66         4.94     False            30   \n",
       "\n",
       "     prePrice  price  review     status  solidTickets  pro_month  have  \\\n",
       "180      1999   3200   False  PUBLISHED          5529          3     1   \n",
       "320       990   1800   False  PUBLISHED         13581          6     1   \n",
       "314      1000   2000   False  PUBLISHED          5933          7     1   \n",
       "66       2499   3999   False  PUBLISHED          2332          4     1   \n",
       "243       650   2500   False  PUBLISHED          2317          5     1   \n",
       "75       1200   1800   False  PUBLISHED          7619          3     1   \n",
       "175      1280   1680   False  PUBLISHED          2247          4     1   \n",
       "280       990   1590   False  PUBLISHED          3530         11     1   \n",
       "339      1000   1500   False  PUBLISHED          3395          3     1   \n",
       "49       1680   2680   False  PUBLISHED          1938          6     1   \n",
       "239      1600   2000   False  PUBLISHED          2853          6     1   \n",
       "323       500    900   False  PUBLISHED          1707          5     1   \n",
       "206      1880   2400   False  PUBLISHED          5508         11     1   \n",
       "240       800   1500   False  PUBLISHED          1642          6     1   \n",
       "328       750   1000   False  PUBLISHED          1626          5     1   \n",
       "210       990   1590   False  PUBLISHED          1573         10     1   \n",
       "136      1280   2046   False  PUBLISHED          1559          8     1   \n",
       "176       990   1990   False  PUBLISHED          1534          3     1   \n",
       "242       500    600   False  PUBLISHED          1521          5     1   \n",
       "145       990   1500   False  PUBLISHED          1455          7     1   \n",
       "\n",
       "          await  \n",
       "180  184.300000  \n",
       "320  135.810000  \n",
       "314  118.660000  \n",
       "66    77.733333  \n",
       "243   77.233333  \n",
       "75    76.190000  \n",
       "175   74.900000  \n",
       "280   70.600000  \n",
       "339   67.900000  \n",
       "49    64.600000  \n",
       "239   57.060000  \n",
       "323   56.900000  \n",
       "206   55.080000  \n",
       "240   54.733333  \n",
       "328   54.200000  \n",
       "210   52.433333  \n",
       "136   51.966667  \n",
       "176   51.133333  \n",
       "242   50.700000  \n",
       "145   48.500000  "
      ]
     },
     "execution_count": 118,
     "metadata": {},
     "output_type": "execute_result"
    }
   ],
   "source": [
    "#solidTickets / successCriti 實際上課人數/需要募資人數\n",
    "#預期比率 Await\n",
    "df[\"await\"]=df.solidTickets/df.successCriti\n",
    "df.sort_values(\"await\",ascending=False).head(20)\n",
    "#大家願意掏錢買的爆買課程\n",
    "#python課 在hahow學校非常熱門"
   ]
  },
  {
   "cell_type": "code",
   "execution_count": 124,
   "id": "00662947",
   "metadata": {},
   "outputs": [
    {
     "data": {
      "text/html": [
       "<div>\n",
       "<style scoped>\n",
       "    .dataframe tbody tr th:only-of-type {\n",
       "        vertical-align: middle;\n",
       "    }\n",
       "\n",
       "    .dataframe tbody tr th {\n",
       "        vertical-align: top;\n",
       "    }\n",
       "\n",
       "    .dataframe thead th {\n",
       "        text-align: right;\n",
       "    }\n",
       "</style>\n",
       "<table border=\"1\" class=\"dataframe\">\n",
       "  <thead>\n",
       "    <tr style=\"text-align: right;\">\n",
       "      <th></th>\n",
       "      <th>have</th>\n",
       "    </tr>\n",
       "    <tr>\n",
       "      <th>author</th>\n",
       "      <th></th>\n",
       "    </tr>\n",
       "  </thead>\n",
       "  <tbody>\n",
       "    <tr>\n",
       "      <th>藍 國峰</th>\n",
       "      <td>5</td>\n",
       "    </tr>\n",
       "    <tr>\n",
       "      <th>Weihang Lidance Chou</th>\n",
       "      <td>4</td>\n",
       "    </tr>\n",
       "    <tr>\n",
       "      <th>李柏鋒</th>\n",
       "      <td>4</td>\n",
       "    </tr>\n",
       "    <tr>\n",
       "      <th>圖文不符</th>\n",
       "      <td>4</td>\n",
       "    </tr>\n",
       "    <tr>\n",
       "      <th>1MustLearn</th>\n",
       "      <td>4</td>\n",
       "    </tr>\n",
       "    <tr>\n",
       "      <th>Chang Hong Lin</th>\n",
       "      <td>4</td>\n",
       "    </tr>\n",
       "    <tr>\n",
       "      <th>Rainie Chiang</th>\n",
       "      <td>3</td>\n",
       "    </tr>\n",
       "    <tr>\n",
       "      <th>Tina Wu</th>\n",
       "      <td>3</td>\n",
       "    </tr>\n",
       "    <tr>\n",
       "      <th>Hank Tom</th>\n",
       "      <td>3</td>\n",
       "    </tr>\n",
       "    <tr>\n",
       "      <th>Lien  Ted</th>\n",
       "      <td>3</td>\n",
       "    </tr>\n",
       "    <tr>\n",
       "      <th>彭毅弘 Bill</th>\n",
       "      <td>3</td>\n",
       "    </tr>\n",
       "    <tr>\n",
       "      <th>聯經出版</th>\n",
       "      <td>3</td>\n",
       "    </tr>\n",
       "    <tr>\n",
       "      <th>程威誌</th>\n",
       "      <td>2</td>\n",
       "    </tr>\n",
       "    <tr>\n",
       "      <th>老別</th>\n",
       "      <td>2</td>\n",
       "    </tr>\n",
       "    <tr>\n",
       "      <th>Nuomi</th>\n",
       "      <td>2</td>\n",
       "    </tr>\n",
       "  </tbody>\n",
       "</table>\n",
       "</div>"
      ],
      "text/plain": [
       "                      have\n",
       "author                    \n",
       "藍 國峰                     5\n",
       "Weihang Lidance Chou     4\n",
       "李柏鋒                      4\n",
       "圖文不符                     4\n",
       "1MustLearn               4\n",
       "Chang Hong Lin           4\n",
       "Rainie Chiang            3\n",
       "Tina Wu                  3\n",
       "Hank Tom                 3\n",
       "Lien  Ted                3\n",
       "彭毅弘 Bill                 3\n",
       "聯經出版                     3\n",
       "程威誌                      2\n",
       "老別                       2\n",
       "Nuomi                    2"
      ]
     },
     "execution_count": 124,
     "metadata": {},
     "output_type": "execute_result"
    }
   ],
   "source": [
    "pd.DataFrame(df.groupby(df.author).have.sum()).sort_values(\"have\",ascending=False).head(15)\n",
    "#最長在hahowd 開課程的人"
   ]
  },
  {
   "cell_type": "code",
   "execution_count": 180,
   "id": "540e1c09",
   "metadata": {},
   "outputs": [
    {
     "name": "stdout",
     "output_type": "stream",
     "text": [
      "0      0.00\n",
      "1      0.00\n",
      "2      0.00\n",
      "3      0.00\n",
      "4      0.00\n",
      "       ... \n",
      "379    4.88\n",
      "380    4.29\n",
      "381    4.76\n",
      "382    4.45\n",
      "383    4.79\n",
      "Name: avg_ratings, Length: 384, dtype: float64\n",
      "課程為零分 63\n"
     ]
    },
    {
     "data": {
      "text/plain": [
       "Text(0.5, 6.800000000000001, 'avg_rating')"
      ]
     },
     "execution_count": 180,
     "metadata": {},
     "output_type": "execute_result"
    },
    {
     "data": {
      "text/plain": [
       "<Figure size 1080x432 with 0 Axes>"
      ]
     },
     "metadata": {},
     "output_type": "display_data"
    },
    {
     "data": {
      "image/png": "[encoded data removed]",
      "text/plain": [
       "<Figure size 360x360 with 1 Axes>"
      ]
     },
     "metadata": {},
     "output_type": "display_data"
    }
   ],
   "source": [
    "#觀察課程獲得評分\n",
    "\n",
    "print(df[\"avg_ratings\"])\n",
    "df[(df.avg_ratings>=0)&(df.avg_ratings<3)]\n",
    "print(\"課程為零分\",(df[\"avg_ratings\"]==0).sum())\n",
    "##不少課程是沒有課程的評分\n",
    "\n",
    "\n",
    "plt.style.use(\"ggplot\")\n",
    "plt.figure(figsize=(15,6))\n",
    "#plt.hist(df[\"avg_ratings\"],color=\"blue\",alpha=0.7)\n",
    "sns.displot(df.avg_ratings,kde=True)\n",
    "plt.title(\"many class got high rate\",fontsize=20)\n",
    "plt.xlabel(\"avg_rating\",fontsize=20)"
   ]
  },
  {
   "cell_type": "code",
   "execution_count": 137,
   "id": "dd322f56",
   "metadata": {},
   "outputs": [
    {
     "name": "stdout",
     "output_type": "stream",
     "text": [
      "count    384.000000\n",
      "mean      31.208333\n",
      "std       45.461008\n",
      "min        0.000000\n",
      "25%        6.000000\n",
      "50%       15.000000\n",
      "75%       36.250000\n",
      "max      425.000000\n",
      "Name: ratings, dtype: float64\n"
     ]
    },
    {
     "data": {
      "text/plain": [
       "Text(0.5, 6.800000000000001, 'commnet')"
      ]
     },
     "execution_count": 137,
     "metadata": {},
     "output_type": "execute_result"
    },
    {
     "data": {
      "text/plain": [
       "<Figure size 1080x432 with 0 Axes>"
      ]
     },
     "metadata": {},
     "output_type": "display_data"
    },
    {
     "data": {
      "image/png": "[encoded data removed]",
      "text/plain": [
       "<Figure size 360x360 with 1 Axes>"
      ]
     },
     "metadata": {},
     "output_type": "display_data"
    }
   ],
   "source": [
    "plt.style.use(\"ggplot\")\n",
    "plt.figure(figsize=(15,6))\n",
    "print(df[\"ratings\"].describe())\n",
    "sns.displot(df[\"ratings\"],kde=True)\n",
    "plt.title(\"comments in the class\",fontsize=20)\n",
    "plt.xlabel(\"commnet\",fontsize=20)\n",
    "##頻均課程的留言數\n"
   ]
  },
  {
   "cell_type": "code",
   "execution_count": 164,
   "id": "9a6f38a8",
   "metadata": {},
   "outputs": [
    {
     "name": "stdout",
     "output_type": "stream",
     "text": [
      "評論大於100則課有 28\n"
     ]
    },
    {
     "data": {
      "text/html": [
       "<div>\n",
       "<style scoped>\n",
       "    .dataframe tbody tr th:only-of-type {\n",
       "        vertical-align: middle;\n",
       "    }\n",
       "\n",
       "    .dataframe tbody tr th {\n",
       "        vertical-align: top;\n",
       "    }\n",
       "\n",
       "    .dataframe thead th {\n",
       "        text-align: right;\n",
       "    }\n",
       "</style>\n",
       "<table border=\"1\" class=\"dataframe\">\n",
       "  <thead>\n",
       "    <tr style=\"text-align: right;\">\n",
       "      <th></th>\n",
       "      <th>Unnamed: 0</th>\n",
       "      <th>title</th>\n",
       "      <th>author</th>\n",
       "      <th>proposal</th>\n",
       "      <th>incubate</th>\n",
       "      <th>estimateStart</th>\n",
       "      <th>startCapital</th>\n",
       "      <th>types</th>\n",
       "      <th>ratings</th>\n",
       "      <th>avg_ratings</th>\n",
       "      <th>isReject</th>\n",
       "      <th>successCriti</th>\n",
       "      <th>prePrice</th>\n",
       "      <th>price</th>\n",
       "      <th>review</th>\n",
       "      <th>status</th>\n",
       "      <th>solidTickets</th>\n",
       "      <th>pro_month</th>\n",
       "      <th>have</th>\n",
       "      <th>await</th>\n",
       "    </tr>\n",
       "  </thead>\n",
       "  <tbody>\n",
       "    <tr>\n",
       "      <th>209</th>\n",
       "      <td>209</td>\n",
       "      <td>打動人心的創作秘密，畫出個性的角色設計</td>\n",
       "      <td>水晶孔</td>\n",
       "      <td>2017-10-25</td>\n",
       "      <td>2017-09-26</td>\n",
       "      <td>2017-11-30</td>\n",
       "      <td>NaN</td>\n",
       "      <td>[]</td>\n",
       "      <td>168</td>\n",
       "      <td>4.99</td>\n",
       "      <td>False</td>\n",
       "      <td>100</td>\n",
       "      <td>880</td>\n",
       "      <td>1280</td>\n",
       "      <td>False</td>\n",
       "      <td>PUBLISHED</td>\n",
       "      <td>3262</td>\n",
       "      <td>10</td>\n",
       "      <td>1</td>\n",
       "      <td>32.620000</td>\n",
       "    </tr>\n",
       "    <tr>\n",
       "      <th>240</th>\n",
       "      <td>240</td>\n",
       "      <td>不必下蠱的人心攻略術 — 小說實戰技術</td>\n",
       "      <td>朱宥勳</td>\n",
       "      <td>2017-06-04</td>\n",
       "      <td>2017-05-05</td>\n",
       "      <td>2017-08-03</td>\n",
       "      <td>NaN</td>\n",
       "      <td>[]</td>\n",
       "      <td>101</td>\n",
       "      <td>4.98</td>\n",
       "      <td>False</td>\n",
       "      <td>30</td>\n",
       "      <td>800</td>\n",
       "      <td>1500</td>\n",
       "      <td>False</td>\n",
       "      <td>PUBLISHED</td>\n",
       "      <td>1642</td>\n",
       "      <td>6</td>\n",
       "      <td>1</td>\n",
       "      <td>54.733333</td>\n",
       "    </tr>\n",
       "    <tr>\n",
       "      <th>180</th>\n",
       "      <td>180</td>\n",
       "      <td>用 Python 理財：打造小資族選股策略</td>\n",
       "      <td>FinLab</td>\n",
       "      <td>2018-03-23</td>\n",
       "      <td>2018-02-22</td>\n",
       "      <td>2018-05-22</td>\n",
       "      <td>NaN</td>\n",
       "      <td>[]</td>\n",
       "      <td>425</td>\n",
       "      <td>4.98</td>\n",
       "      <td>False</td>\n",
       "      <td>30</td>\n",
       "      <td>1999</td>\n",
       "      <td>3200</td>\n",
       "      <td>False</td>\n",
       "      <td>PUBLISHED</td>\n",
       "      <td>5529</td>\n",
       "      <td>3</td>\n",
       "      <td>1</td>\n",
       "      <td>184.300000</td>\n",
       "    </tr>\n",
       "    <tr>\n",
       "      <th>314</th>\n",
       "      <td>314</td>\n",
       "      <td>動畫互動網頁程式入門 (HTML/CSS/JS)</td>\n",
       "      <td>吳哲宇</td>\n",
       "      <td>2016-07-03</td>\n",
       "      <td>2016-06-03</td>\n",
       "      <td>2016-09-01</td>\n",
       "      <td>NaN</td>\n",
       "      <td>[]</td>\n",
       "      <td>262</td>\n",
       "      <td>4.97</td>\n",
       "      <td>False</td>\n",
       "      <td>50</td>\n",
       "      <td>1000</td>\n",
       "      <td>2000</td>\n",
       "      <td>False</td>\n",
       "      <td>PUBLISHED</td>\n",
       "      <td>5933</td>\n",
       "      <td>7</td>\n",
       "      <td>1</td>\n",
       "      <td>118.660000</td>\n",
       "    </tr>\n",
       "    <tr>\n",
       "      <th>216</th>\n",
       "      <td>216</td>\n",
       "      <td>當個水彩甜點師 — 雪莉的午茶繪畫課</td>\n",
       "      <td>Sherry雪莉</td>\n",
       "      <td>2017-09-27</td>\n",
       "      <td>2017-08-29</td>\n",
       "      <td>2017-11-26</td>\n",
       "      <td>NaN</td>\n",
       "      <td>[]</td>\n",
       "      <td>139</td>\n",
       "      <td>4.96</td>\n",
       "      <td>False</td>\n",
       "      <td>30</td>\n",
       "      <td>880</td>\n",
       "      <td>1200</td>\n",
       "      <td>False</td>\n",
       "      <td>PUBLISHED</td>\n",
       "      <td>1135</td>\n",
       "      <td>9</td>\n",
       "      <td>1</td>\n",
       "      <td>37.833333</td>\n",
       "    </tr>\n",
       "    <tr>\n",
       "      <th>329</th>\n",
       "      <td>329</td>\n",
       "      <td>Cartoon 插畫 - 人物篇 (●—●)</td>\n",
       "      <td>JUN CHIU</td>\n",
       "      <td>2016-05-09</td>\n",
       "      <td>2016-04-09</td>\n",
       "      <td>2016-07-08</td>\n",
       "      <td>NaN</td>\n",
       "      <td>[]</td>\n",
       "      <td>136</td>\n",
       "      <td>4.96</td>\n",
       "      <td>False</td>\n",
       "      <td>30</td>\n",
       "      <td>300</td>\n",
       "      <td>500</td>\n",
       "      <td>False</td>\n",
       "      <td>PUBLISHED</td>\n",
       "      <td>1392</td>\n",
       "      <td>5</td>\n",
       "      <td>1</td>\n",
       "      <td>46.400000</td>\n",
       "    </tr>\n",
       "    <tr>\n",
       "      <th>178</th>\n",
       "      <td>178</td>\n",
       "      <td>240 分鐘 - 忘掉拍照，學會攝影</td>\n",
       "      <td>子雍 Tzu-Yung</td>\n",
       "      <td>2018-03-28</td>\n",
       "      <td>2018-02-27</td>\n",
       "      <td>2018-05-27</td>\n",
       "      <td>NaN</td>\n",
       "      <td>[]</td>\n",
       "      <td>170</td>\n",
       "      <td>4.96</td>\n",
       "      <td>False</td>\n",
       "      <td>120</td>\n",
       "      <td>1490</td>\n",
       "      <td>2049</td>\n",
       "      <td>False</td>\n",
       "      <td>PUBLISHED</td>\n",
       "      <td>2512</td>\n",
       "      <td>3</td>\n",
       "      <td>1</td>\n",
       "      <td>20.933333</td>\n",
       "    </tr>\n",
       "    <tr>\n",
       "      <th>207</th>\n",
       "      <td>207</td>\n",
       "      <td>小資族理財的第一堂入門課</td>\n",
       "      <td>李柏鋒</td>\n",
       "      <td>2017-10-31</td>\n",
       "      <td>2017-10-02</td>\n",
       "      <td>2017-12-30</td>\n",
       "      <td>NaN</td>\n",
       "      <td>[]</td>\n",
       "      <td>218</td>\n",
       "      <td>4.96</td>\n",
       "      <td>False</td>\n",
       "      <td>60</td>\n",
       "      <td>888</td>\n",
       "      <td>1688</td>\n",
       "      <td>False</td>\n",
       "      <td>PUBLISHED</td>\n",
       "      <td>1647</td>\n",
       "      <td>10</td>\n",
       "      <td>1</td>\n",
       "      <td>27.450000</td>\n",
       "    </tr>\n",
       "    <tr>\n",
       "      <th>108</th>\n",
       "      <td>108</td>\n",
       "      <td>興趣變副業！打造自己的手作品牌</td>\n",
       "      <td>張譯蓁</td>\n",
       "      <td>2018-11-28</td>\n",
       "      <td>2018-10-30</td>\n",
       "      <td>2019-01-27</td>\n",
       "      <td>NaN</td>\n",
       "      <td>[]</td>\n",
       "      <td>120</td>\n",
       "      <td>4.95</td>\n",
       "      <td>False</td>\n",
       "      <td>30</td>\n",
       "      <td>1500</td>\n",
       "      <td>2500</td>\n",
       "      <td>False</td>\n",
       "      <td>PUBLISHED</td>\n",
       "      <td>806</td>\n",
       "      <td>11</td>\n",
       "      <td>1</td>\n",
       "      <td>26.866667</td>\n",
       "    </tr>\n",
       "    <tr>\n",
       "      <th>206</th>\n",
       "      <td>206</td>\n",
       "      <td>社群力：30 堂課突破你的內容行銷盲點！</td>\n",
       "      <td>圖文不符</td>\n",
       "      <td>2017-11-15</td>\n",
       "      <td>2017-10-17</td>\n",
       "      <td>2018-01-14</td>\n",
       "      <td>NaN</td>\n",
       "      <td>[]</td>\n",
       "      <td>129</td>\n",
       "      <td>4.95</td>\n",
       "      <td>False</td>\n",
       "      <td>100</td>\n",
       "      <td>1880</td>\n",
       "      <td>2400</td>\n",
       "      <td>False</td>\n",
       "      <td>PUBLISHED</td>\n",
       "      <td>5508</td>\n",
       "      <td>11</td>\n",
       "      <td>1</td>\n",
       "      <td>55.080000</td>\n",
       "    </tr>\n",
       "    <tr>\n",
       "      <th>212</th>\n",
       "      <td>212</td>\n",
       "      <td>資料庫設計 - 有效的使用系統資料</td>\n",
       "      <td>Ryan</td>\n",
       "      <td>2017-10-20</td>\n",
       "      <td>2017-09-21</td>\n",
       "      <td>2017-12-19</td>\n",
       "      <td>NaN</td>\n",
       "      <td>[]</td>\n",
       "      <td>104</td>\n",
       "      <td>4.94</td>\n",
       "      <td>False</td>\n",
       "      <td>50</td>\n",
       "      <td>980</td>\n",
       "      <td>1890</td>\n",
       "      <td>False</td>\n",
       "      <td>PUBLISHED</td>\n",
       "      <td>449</td>\n",
       "      <td>10</td>\n",
       "      <td>1</td>\n",
       "      <td>8.980000</td>\n",
       "    </tr>\n",
       "    <tr>\n",
       "      <th>189</th>\n",
       "      <td>189</td>\n",
       "      <td>台科 EMBA 年年爆滿的一門 Word 課（A系列）</td>\n",
       "      <td>Tina Wu</td>\n",
       "      <td>2018-01-18</td>\n",
       "      <td>2017-12-20</td>\n",
       "      <td>2018-03-19</td>\n",
       "      <td>NaN</td>\n",
       "      <td>[]</td>\n",
       "      <td>112</td>\n",
       "      <td>4.94</td>\n",
       "      <td>False</td>\n",
       "      <td>30</td>\n",
       "      <td>550</td>\n",
       "      <td>950</td>\n",
       "      <td>False</td>\n",
       "      <td>PUBLISHED</td>\n",
       "      <td>1100</td>\n",
       "      <td>1</td>\n",
       "      <td>1</td>\n",
       "      <td>36.666667</td>\n",
       "    </tr>\n",
       "    <tr>\n",
       "      <th>210</th>\n",
       "      <td>210</td>\n",
       "      <td>【Illustrator / Ai 入門】五小時保證上手</td>\n",
       "      <td>李宇哲｜蒟蒻</td>\n",
       "      <td>2017-10-24</td>\n",
       "      <td>2017-09-25</td>\n",
       "      <td>2017-12-23</td>\n",
       "      <td>NaN</td>\n",
       "      <td>[]</td>\n",
       "      <td>117</td>\n",
       "      <td>4.94</td>\n",
       "      <td>False</td>\n",
       "      <td>30</td>\n",
       "      <td>990</td>\n",
       "      <td>1590</td>\n",
       "      <td>False</td>\n",
       "      <td>PUBLISHED</td>\n",
       "      <td>1573</td>\n",
       "      <td>10</td>\n",
       "      <td>1</td>\n",
       "      <td>52.433333</td>\n",
       "    </tr>\n",
       "    <tr>\n",
       "      <th>61</th>\n",
       "      <td>61</td>\n",
       "      <td>15 單元看懂經濟運行，掌握全球投資趨勢</td>\n",
       "      <td>Rachel Chen</td>\n",
       "      <td>2019-05-15</td>\n",
       "      <td>2019-04-16</td>\n",
       "      <td>2019-07-14</td>\n",
       "      <td>2019-04-16T04:00:00.000Z</td>\n",
       "      <td>['DIGITAL']</td>\n",
       "      <td>235</td>\n",
       "      <td>4.94</td>\n",
       "      <td>False</td>\n",
       "      <td>100</td>\n",
       "      <td>2490</td>\n",
       "      <td>3600</td>\n",
       "      <td>False</td>\n",
       "      <td>PUBLISHED</td>\n",
       "      <td>3706</td>\n",
       "      <td>5</td>\n",
       "      <td>1</td>\n",
       "      <td>37.060000</td>\n",
       "    </tr>\n",
       "    <tr>\n",
       "      <th>133</th>\n",
       "      <td>133</td>\n",
       "      <td>啾啾鞋的資料彙整術 - 別淹沒在資訊海！</td>\n",
       "      <td>chuchushoe</td>\n",
       "      <td>2018-08-31</td>\n",
       "      <td>2018-08-02</td>\n",
       "      <td>2018-10-30</td>\n",
       "      <td>NaN</td>\n",
       "      <td>[]</td>\n",
       "      <td>105</td>\n",
       "      <td>4.93</td>\n",
       "      <td>False</td>\n",
       "      <td>100</td>\n",
       "      <td>1000</td>\n",
       "      <td>1500</td>\n",
       "      <td>False</td>\n",
       "      <td>PUBLISHED</td>\n",
       "      <td>1495</td>\n",
       "      <td>8</td>\n",
       "      <td>1</td>\n",
       "      <td>14.950000</td>\n",
       "    </tr>\n",
       "    <tr>\n",
       "      <th>47</th>\n",
       "      <td>47</td>\n",
       "      <td>職場必備的批判思考力：基礎篇</td>\n",
       "      <td>Weihang Lidance Chou</td>\n",
       "      <td>2019-06-21</td>\n",
       "      <td>2019-05-23</td>\n",
       "      <td>2019-07-21</td>\n",
       "      <td>NaN</td>\n",
       "      <td>[]</td>\n",
       "      <td>127</td>\n",
       "      <td>4.92</td>\n",
       "      <td>False</td>\n",
       "      <td>100</td>\n",
       "      <td>399</td>\n",
       "      <td>499</td>\n",
       "      <td>False</td>\n",
       "      <td>PUBLISHED</td>\n",
       "      <td>1098</td>\n",
       "      <td>6</td>\n",
       "      <td>1</td>\n",
       "      <td>10.980000</td>\n",
       "    </tr>\n",
       "    <tr>\n",
       "      <th>75</th>\n",
       "      <td>75</td>\n",
       "      <td>百萬 YouTuber 阿滴－攻心剪輯術！</td>\n",
       "      <td>阿滴 x 圖文不符</td>\n",
       "      <td>2019-03-19</td>\n",
       "      <td>2019-02-18</td>\n",
       "      <td>2019-05-18</td>\n",
       "      <td>2019-02-18T04:00:00.000Z</td>\n",
       "      <td>['PHYSICAL', 'DIGITAL']</td>\n",
       "      <td>237</td>\n",
       "      <td>4.92</td>\n",
       "      <td>False</td>\n",
       "      <td>100</td>\n",
       "      <td>1200</td>\n",
       "      <td>1800</td>\n",
       "      <td>False</td>\n",
       "      <td>PUBLISHED</td>\n",
       "      <td>7619</td>\n",
       "      <td>3</td>\n",
       "      <td>1</td>\n",
       "      <td>76.190000</td>\n",
       "    </tr>\n",
       "    <tr>\n",
       "      <th>164</th>\n",
       "      <td>164</td>\n",
       "      <td>獵頭顧問 S 姐帶你健檢人生職涯</td>\n",
       "      <td>江湖人稱S姐</td>\n",
       "      <td>2018-05-25</td>\n",
       "      <td>2018-04-26</td>\n",
       "      <td>2018-07-24</td>\n",
       "      <td>NaN</td>\n",
       "      <td>[]</td>\n",
       "      <td>101</td>\n",
       "      <td>4.89</td>\n",
       "      <td>False</td>\n",
       "      <td>50</td>\n",
       "      <td>1200</td>\n",
       "      <td>1888</td>\n",
       "      <td>False</td>\n",
       "      <td>PUBLISHED</td>\n",
       "      <td>769</td>\n",
       "      <td>5</td>\n",
       "      <td>1</td>\n",
       "      <td>15.380000</td>\n",
       "    </tr>\n",
       "    <tr>\n",
       "      <th>217</th>\n",
       "      <td>217</td>\n",
       "      <td>Python 資料分析＆機器學習入門</td>\n",
       "      <td>Yeh James</td>\n",
       "      <td>2017-09-23</td>\n",
       "      <td>2017-08-25</td>\n",
       "      <td>2017-11-22</td>\n",
       "      <td>NaN</td>\n",
       "      <td>[]</td>\n",
       "      <td>104</td>\n",
       "      <td>4.88</td>\n",
       "      <td>False</td>\n",
       "      <td>50</td>\n",
       "      <td>1000</td>\n",
       "      <td>2500</td>\n",
       "      <td>False</td>\n",
       "      <td>PUBLISHED</td>\n",
       "      <td>1287</td>\n",
       "      <td>9</td>\n",
       "      <td>1</td>\n",
       "      <td>25.740000</td>\n",
       "    </tr>\n",
       "    <tr>\n",
       "      <th>242</th>\n",
       "      <td>242</td>\n",
       "      <td>如何練習動漫速寫</td>\n",
       "      <td>空罐王</td>\n",
       "      <td>2017-05-29</td>\n",
       "      <td>2017-04-29</td>\n",
       "      <td>2017-07-28</td>\n",
       "      <td>NaN</td>\n",
       "      <td>[]</td>\n",
       "      <td>120</td>\n",
       "      <td>4.88</td>\n",
       "      <td>False</td>\n",
       "      <td>30</td>\n",
       "      <td>500</td>\n",
       "      <td>600</td>\n",
       "      <td>False</td>\n",
       "      <td>PUBLISHED</td>\n",
       "      <td>1521</td>\n",
       "      <td>5</td>\n",
       "      <td>1</td>\n",
       "      <td>50.700000</td>\n",
       "    </tr>\n",
       "    <tr>\n",
       "      <th>278</th>\n",
       "      <td>278</td>\n",
       "      <td>邊走邊畫，帶著手帳旅行去！</td>\n",
       "      <td>Reiko Chen</td>\n",
       "      <td>2016-11-13</td>\n",
       "      <td>2016-10-14</td>\n",
       "      <td>2016-12-13</td>\n",
       "      <td>NaN</td>\n",
       "      <td>[]</td>\n",
       "      <td>128</td>\n",
       "      <td>4.88</td>\n",
       "      <td>False</td>\n",
       "      <td>30</td>\n",
       "      <td>700</td>\n",
       "      <td>850</td>\n",
       "      <td>False</td>\n",
       "      <td>PUBLISHED</td>\n",
       "      <td>1288</td>\n",
       "      <td>11</td>\n",
       "      <td>1</td>\n",
       "      <td>42.933333</td>\n",
       "    </tr>\n",
       "    <tr>\n",
       "      <th>352</th>\n",
       "      <td>352</td>\n",
       "      <td>旅行中手繪建築插畫，你也可以！</td>\n",
       "      <td>Peichi Wu</td>\n",
       "      <td>2016-01-07</td>\n",
       "      <td>2015-12-08</td>\n",
       "      <td>2016-02-06</td>\n",
       "      <td>NaN</td>\n",
       "      <td>[]</td>\n",
       "      <td>110</td>\n",
       "      <td>4.88</td>\n",
       "      <td>False</td>\n",
       "      <td>35</td>\n",
       "      <td>400</td>\n",
       "      <td>500</td>\n",
       "      <td>False</td>\n",
       "      <td>PUBLISHED</td>\n",
       "      <td>929</td>\n",
       "      <td>1</td>\n",
       "      <td>1</td>\n",
       "      <td>26.542857</td>\n",
       "    </tr>\n",
       "    <tr>\n",
       "      <th>339</th>\n",
       "      <td>339</td>\n",
       "      <td>AE/MG || 動畫特效 Vol.1</td>\n",
       "      <td>Yan-K</td>\n",
       "      <td>2016-03-24</td>\n",
       "      <td>2016-02-23</td>\n",
       "      <td>2016-04-30</td>\n",
       "      <td>NaN</td>\n",
       "      <td>[]</td>\n",
       "      <td>149</td>\n",
       "      <td>4.86</td>\n",
       "      <td>False</td>\n",
       "      <td>50</td>\n",
       "      <td>1000</td>\n",
       "      <td>1500</td>\n",
       "      <td>False</td>\n",
       "      <td>PUBLISHED</td>\n",
       "      <td>3395</td>\n",
       "      <td>3</td>\n",
       "      <td>1</td>\n",
       "      <td>67.900000</td>\n",
       "    </tr>\n",
       "    <tr>\n",
       "      <th>106</th>\n",
       "      <td>106</td>\n",
       "      <td>用手機捕捉瞬息美好-IPPA 冠軍的攝影心法</td>\n",
       "      <td>Paddy Chao 趙培均</td>\n",
       "      <td>2018-11-30</td>\n",
       "      <td>2018-11-01</td>\n",
       "      <td>2019-01-29</td>\n",
       "      <td>2018-11-01T04:00:00.000Z</td>\n",
       "      <td>['DIGITAL']</td>\n",
       "      <td>138</td>\n",
       "      <td>4.85</td>\n",
       "      <td>False</td>\n",
       "      <td>50</td>\n",
       "      <td>1400</td>\n",
       "      <td>1800</td>\n",
       "      <td>False</td>\n",
       "      <td>PUBLISHED</td>\n",
       "      <td>926</td>\n",
       "      <td>11</td>\n",
       "      <td>1</td>\n",
       "      <td>18.520000</td>\n",
       "    </tr>\n",
       "    <tr>\n",
       "      <th>234</th>\n",
       "      <td>234</td>\n",
       "      <td>履歷面試大剖析－網路科技外商求職技巧</td>\n",
       "      <td>Coey Lam</td>\n",
       "      <td>2017-07-21</td>\n",
       "      <td>2017-06-21</td>\n",
       "      <td>2017-08-20</td>\n",
       "      <td>NaN</td>\n",
       "      <td>[]</td>\n",
       "      <td>101</td>\n",
       "      <td>4.82</td>\n",
       "      <td>False</td>\n",
       "      <td>30</td>\n",
       "      <td>699</td>\n",
       "      <td>899</td>\n",
       "      <td>False</td>\n",
       "      <td>PUBLISHED</td>\n",
       "      <td>529</td>\n",
       "      <td>7</td>\n",
       "      <td>1</td>\n",
       "      <td>17.633333</td>\n",
       "    </tr>\n",
       "    <tr>\n",
       "      <th>213</th>\n",
       "      <td>213</td>\n",
       "      <td>給對 Premiere 毫無頭緒的你：最完整的 8 堂課</td>\n",
       "      <td>李歐</td>\n",
       "      <td>2017-10-14</td>\n",
       "      <td>2017-09-15</td>\n",
       "      <td>2017-11-13</td>\n",
       "      <td>NaN</td>\n",
       "      <td>[]</td>\n",
       "      <td>111</td>\n",
       "      <td>4.80</td>\n",
       "      <td>False</td>\n",
       "      <td>50</td>\n",
       "      <td>800</td>\n",
       "      <td>1200</td>\n",
       "      <td>False</td>\n",
       "      <td>PUBLISHED</td>\n",
       "      <td>959</td>\n",
       "      <td>10</td>\n",
       "      <td>1</td>\n",
       "      <td>19.180000</td>\n",
       "    </tr>\n",
       "    <tr>\n",
       "      <th>317</th>\n",
       "      <td>317</td>\n",
       "      <td>用隨處可得的平價筆寫一手美字</td>\n",
       "      <td>葉曄</td>\n",
       "      <td>2016-06-11</td>\n",
       "      <td>2016-05-12</td>\n",
       "      <td>2016-06-26</td>\n",
       "      <td>NaN</td>\n",
       "      <td>[]</td>\n",
       "      <td>153</td>\n",
       "      <td>4.80</td>\n",
       "      <td>False</td>\n",
       "      <td>50</td>\n",
       "      <td>650</td>\n",
       "      <td>800</td>\n",
       "      <td>False</td>\n",
       "      <td>PUBLISHED</td>\n",
       "      <td>1645</td>\n",
       "      <td>6</td>\n",
       "      <td>1</td>\n",
       "      <td>32.900000</td>\n",
       "    </tr>\n",
       "    <tr>\n",
       "      <th>320</th>\n",
       "      <td>320</td>\n",
       "      <td>讓圖不只是好看的－資訊設計思考力！</td>\n",
       "      <td>圖文不符</td>\n",
       "      <td>2016-06-08</td>\n",
       "      <td>2016-05-09</td>\n",
       "      <td>2016-08-07</td>\n",
       "      <td>NaN</td>\n",
       "      <td>[]</td>\n",
       "      <td>213</td>\n",
       "      <td>4.60</td>\n",
       "      <td>False</td>\n",
       "      <td>100</td>\n",
       "      <td>990</td>\n",
       "      <td>1800</td>\n",
       "      <td>False</td>\n",
       "      <td>PUBLISHED</td>\n",
       "      <td>13581</td>\n",
       "      <td>6</td>\n",
       "      <td>1</td>\n",
       "      <td>135.810000</td>\n",
       "    </tr>\n",
       "  </tbody>\n",
       "</table>\n",
       "</div>"
      ],
      "text/plain": [
       "     Unnamed: 0                         title                author  \\\n",
       "209         209           打動人心的創作秘密，畫出個性的角色設計                   水晶孔   \n",
       "240         240           不必下蠱的人心攻略術 — 小說實戰技術                   朱宥勳   \n",
       "180         180         用 Python 理財：打造小資族選股策略                FinLab   \n",
       "314         314      動畫互動網頁程式入門 (HTML/CSS/JS)                   吳哲宇   \n",
       "216         216            當個水彩甜點師 — 雪莉的午茶繪畫課              Sherry雪莉   \n",
       "329         329        Cartoon 插畫 - 人物篇 (●—●)              JUN CHIU   \n",
       "178         178            240 分鐘 - 忘掉拍照，學會攝影           子雍 Tzu-Yung   \n",
       "207         207                  小資族理財的第一堂入門課                   李柏鋒   \n",
       "108         108               興趣變副業！打造自己的手作品牌                   張譯蓁   \n",
       "206         206          社群力：30 堂課突破你的內容行銷盲點！                  圖文不符   \n",
       "212         212             資料庫設計 - 有效的使用系統資料                  Ryan   \n",
       "189         189   台科 EMBA 年年爆滿的一門 Word 課（A系列）               Tina Wu   \n",
       "210         210  【Illustrator / Ai 入門】五小時保證上手                李宇哲｜蒟蒻   \n",
       "61           61          15 單元看懂經濟運行，掌握全球投資趨勢           Rachel Chen   \n",
       "133         133          啾啾鞋的資料彙整術 - 別淹沒在資訊海！            chuchushoe   \n",
       "47           47                職場必備的批判思考力：基礎篇  Weihang Lidance Chou   \n",
       "75           75         百萬 YouTuber 阿滴－攻心剪輯術！             阿滴 x 圖文不符   \n",
       "164         164              獵頭顧問 S 姐帶你健檢人生職涯                江湖人稱S姐   \n",
       "217         217            Python 資料分析＆機器學習入門             Yeh James   \n",
       "242         242                      如何練習動漫速寫                   空罐王   \n",
       "278         278                 邊走邊畫，帶著手帳旅行去！            Reiko Chen   \n",
       "352         352               旅行中手繪建築插畫，你也可以！             Peichi Wu   \n",
       "339         339           AE/MG || 動畫特效 Vol.1                 Yan-K   \n",
       "106         106        用手機捕捉瞬息美好-IPPA 冠軍的攝影心法        Paddy Chao 趙培均   \n",
       "234         234            履歷面試大剖析－網路科技外商求職技巧              Coey Lam   \n",
       "213         213  給對 Premiere 毫無頭緒的你：最完整的 8 堂課                    李歐   \n",
       "317         317                用隨處可得的平價筆寫一手美字                    葉曄   \n",
       "320         320             讓圖不只是好看的－資訊設計思考力！                  圖文不符   \n",
       "\n",
       "       proposal    incubate estimateStart              startCapital  \\\n",
       "209  2017-10-25  2017-09-26    2017-11-30                       NaN   \n",
       "240  2017-06-04  2017-05-05    2017-08-03                       NaN   \n",
       "180  2018-03-23  2018-02-22    2018-05-22                       NaN   \n",
       "314  2016-07-03  2016-06-03    2016-09-01                       NaN   \n",
       "216  2017-09-27  2017-08-29    2017-11-26                       NaN   \n",
       "329  2016-05-09  2016-04-09    2016-07-08                       NaN   \n",
       "178  2018-03-28  2018-02-27    2018-05-27                       NaN   \n",
       "207  2017-10-31  2017-10-02    2017-12-30                       NaN   \n",
       "108  2018-11-28  2018-10-30    2019-01-27                       NaN   \n",
       "206  2017-11-15  2017-10-17    2018-01-14                       NaN   \n",
       "212  2017-10-20  2017-09-21    2017-12-19                       NaN   \n",
       "189  2018-01-18  2017-12-20    2018-03-19                       NaN   \n",
       "210  2017-10-24  2017-09-25    2017-12-23                       NaN   \n",
       "61   2019-05-15  2019-04-16    2019-07-14  2019-04-16T04:00:00.000Z   \n",
       "133  2018-08-31  2018-08-02    2018-10-30                       NaN   \n",
       "47   2019-06-21  2019-05-23    2019-07-21                       NaN   \n",
       "75   2019-03-19  2019-02-18    2019-05-18  2019-02-18T04:00:00.000Z   \n",
       "164  2018-05-25  2018-04-26    2018-07-24                       NaN   \n",
       "217  2017-09-23  2017-08-25    2017-11-22                       NaN   \n",
       "242  2017-05-29  2017-04-29    2017-07-28                       NaN   \n",
       "278  2016-11-13  2016-10-14    2016-12-13                       NaN   \n",
       "352  2016-01-07  2015-12-08    2016-02-06                       NaN   \n",
       "339  2016-03-24  2016-02-23    2016-04-30                       NaN   \n",
       "106  2018-11-30  2018-11-01    2019-01-29  2018-11-01T04:00:00.000Z   \n",
       "234  2017-07-21  2017-06-21    2017-08-20                       NaN   \n",
       "213  2017-10-14  2017-09-15    2017-11-13                       NaN   \n",
       "317  2016-06-11  2016-05-12    2016-06-26                       NaN   \n",
       "320  2016-06-08  2016-05-09    2016-08-07                       NaN   \n",
       "\n",
       "                       types  ratings  avg_ratings  isReject  successCriti  \\\n",
       "209                       []      168         4.99     False           100   \n",
       "240                       []      101         4.98     False            30   \n",
       "180                       []      425         4.98     False            30   \n",
       "314                       []      262         4.97     False            50   \n",
       "216                       []      139         4.96     False            30   \n",
       "329                       []      136         4.96     False            30   \n",
       "178                       []      170         4.96     False           120   \n",
       "207                       []      218         4.96     False            60   \n",
       "108                       []      120         4.95     False            30   \n",
       "206                       []      129         4.95     False           100   \n",
       "212                       []      104         4.94     False            50   \n",
       "189                       []      112         4.94     False            30   \n",
       "210                       []      117         4.94     False            30   \n",
       "61               ['DIGITAL']      235         4.94     False           100   \n",
       "133                       []      105         4.93     False           100   \n",
       "47                        []      127         4.92     False           100   \n",
       "75   ['PHYSICAL', 'DIGITAL']      237         4.92     False           100   \n",
       "164                       []      101         4.89     False            50   \n",
       "217                       []      104         4.88     False            50   \n",
       "242                       []      120         4.88     False            30   \n",
       "278                       []      128         4.88     False            30   \n",
       "352                       []      110         4.88     False            35   \n",
       "339                       []      149         4.86     False            50   \n",
       "106              ['DIGITAL']      138         4.85     False            50   \n",
       "234                       []      101         4.82     False            30   \n",
       "213                       []      111         4.80     False            50   \n",
       "317                       []      153         4.80     False            50   \n",
       "320                       []      213         4.60     False           100   \n",
       "\n",
       "     prePrice  price  review     status  solidTickets  pro_month  have  \\\n",
       "209       880   1280   False  PUBLISHED          3262         10     1   \n",
       "240       800   1500   False  PUBLISHED          1642          6     1   \n",
       "180      1999   3200   False  PUBLISHED          5529          3     1   \n",
       "314      1000   2000   False  PUBLISHED          5933          7     1   \n",
       "216       880   1200   False  PUBLISHED          1135          9     1   \n",
       "329       300    500   False  PUBLISHED          1392          5     1   \n",
       "178      1490   2049   False  PUBLISHED          2512          3     1   \n",
       "207       888   1688   False  PUBLISHED          1647         10     1   \n",
       "108      1500   2500   False  PUBLISHED           806         11     1   \n",
       "206      1880   2400   False  PUBLISHED          5508         11     1   \n",
       "212       980   1890   False  PUBLISHED           449         10     1   \n",
       "189       550    950   False  PUBLISHED          1100          1     1   \n",
       "210       990   1590   False  PUBLISHED          1573         10     1   \n",
       "61       2490   3600   False  PUBLISHED          3706          5     1   \n",
       "133      1000   1500   False  PUBLISHED          1495          8     1   \n",
       "47        399    499   False  PUBLISHED          1098          6     1   \n",
       "75       1200   1800   False  PUBLISHED          7619          3     1   \n",
       "164      1200   1888   False  PUBLISHED           769          5     1   \n",
       "217      1000   2500   False  PUBLISHED          1287          9     1   \n",
       "242       500    600   False  PUBLISHED          1521          5     1   \n",
       "278       700    850   False  PUBLISHED          1288         11     1   \n",
       "352       400    500   False  PUBLISHED           929          1     1   \n",
       "339      1000   1500   False  PUBLISHED          3395          3     1   \n",
       "106      1400   1800   False  PUBLISHED           926         11     1   \n",
       "234       699    899   False  PUBLISHED           529          7     1   \n",
       "213       800   1200   False  PUBLISHED           959         10     1   \n",
       "317       650    800   False  PUBLISHED          1645          6     1   \n",
       "320       990   1800   False  PUBLISHED         13581          6     1   \n",
       "\n",
       "          await  \n",
       "209   32.620000  \n",
       "240   54.733333  \n",
       "180  184.300000  \n",
       "314  118.660000  \n",
       "216   37.833333  \n",
       "329   46.400000  \n",
       "178   20.933333  \n",
       "207   27.450000  \n",
       "108   26.866667  \n",
       "206   55.080000  \n",
       "212    8.980000  \n",
       "189   36.666667  \n",
       "210   52.433333  \n",
       "61    37.060000  \n",
       "133   14.950000  \n",
       "47    10.980000  \n",
       "75    76.190000  \n",
       "164   15.380000  \n",
       "217   25.740000  \n",
       "242   50.700000  \n",
       "278   42.933333  \n",
       "352   26.542857  \n",
       "339   67.900000  \n",
       "106   18.520000  \n",
       "234   17.633333  \n",
       "213   19.180000  \n",
       "317   32.900000  \n",
       "320  135.810000  "
      ]
     },
     "execution_count": 164,
     "metadata": {},
     "output_type": "execute_result"
    }
   ],
   "source": [
    "print(\"評論大於100則課有\",(df.ratings>100).sum())\n",
    "df[df.ratings>100].sort_values(\"avg_ratings\",ascending=False)\n",
    "\n",
    "#高互動的課程頻分和留言的樣約呈現正向"
   ]
  },
  {
   "cell_type": "code",
   "execution_count": 170,
   "id": "3cd436b2",
   "metadata": {},
   "outputs": [
    {
     "name": "stdout",
     "output_type": "stream",
     "text": [
      "count     384.000000\n",
      "mean     1103.903646\n",
      "std       676.481790\n",
      "min        99.000000\n",
      "25%       600.000000\n",
      "50%       990.000000\n",
      "75%      1500.000000\n",
      "max      4800.000000\n",
      "Name: prePrice, dtype: float64\n"
     ]
    },
    {
     "data": {
      "text/plain": [
       "Text(0.5, 6.800000000000001, 'per-price')"
      ]
     },
     "execution_count": 170,
     "metadata": {},
     "output_type": "execute_result"
    },
    {
     "data": {
      "image/png": "[encoded data removed]",
      "text/plain": [
       "<Figure size 360x360 with 1 Axes>"
      ]
     },
     "metadata": {},
     "output_type": "display_data"
    }
   ],
   "source": [
    "plt.style.use(\"ggplot\")\n",
    "print(df.prePrice.describe())\n",
    "sns.displot(df.prePrice,kde=True)\n",
    "plt.title(\"class per-price in Hahow\",fontsize=20)\n",
    "plt.xlabel(\"per-price\",fontsize=20)\n",
    "##課程預購時的售價\n",
    "##大概在一千元左右"
   ]
  },
  {
   "cell_type": "code",
   "execution_count": 179,
   "id": "cbde0b25",
   "metadata": {},
   "outputs": [
    {
     "name": "stdout",
     "output_type": "stream",
     "text": [
      "count     384.000000\n",
      "mean     1673.153646\n",
      "std       964.759503\n",
      "min       150.000000\n",
      "25%       996.750000\n",
      "50%      1595.000000\n",
      "75%      2200.000000\n",
      "max      7680.000000\n",
      "Name: price, dtype: float64\n"
     ]
    },
    {
     "data": {
      "text/plain": [
       "Text(0.5, 6.800000000000001, 'price')"
      ]
     },
     "execution_count": 179,
     "metadata": {},
     "output_type": "execute_result"
    },
    {
     "data": {
      "image/png": "[encoded data removed]",
      "text/plain": [
       "<Figure size 360x360 with 1 Axes>"
      ]
     },
     "metadata": {},
     "output_type": "display_data"
    }
   ],
   "source": [
    "plt.style.use(\"ggplot\")\n",
    "print(df.price.describe())\n",
    "sns.displot(df.prePrice,kde=True)\n",
    "plt.title(\"class price in Hahow\",fontsize=20)\n",
    "plt.xlabel(\"price\",fontsize=20)\n",
    "##過了預購時課程售價\n",
    "#可以發現平均而言差異不太大"
   ]
  },
  {
   "cell_type": "code",
   "execution_count": 178,
   "id": "d407fa7c",
   "metadata": {},
   "outputs": [
    {
     "name": "stdout",
     "output_type": "stream",
     "text": [
      "修課人數和評價相關係數:\n",
      " 0.7469550876856959\n"
     ]
    },
    {
     "name": "stderr",
     "output_type": "stream",
     "text": [
      "/Users/heng/opt/anaconda3/lib/python3.9/site-packages/seaborn/_decorators.py:36: FutureWarning:\n",
      "\n",
      "Pass the following variables as keyword args: x, y. From version 0.12, the only valid positional argument will be `data`, and passing other arguments without an explicit keyword will result in an error or misinterpretation.\n",
      "\n"
     ]
    },
    {
     "data": {
      "text/plain": [
       "Text(0.5, 0, 'sold tickets')"
      ]
     },
     "execution_count": 178,
     "metadata": {},
     "output_type": "execute_result"
    },
    {
     "data": {
      "image/png": "[encoded data removed]",
      "text/plain": [
       "<Figure size 1080x576 with 1 Axes>"
      ]
     },
     "metadata": {},
     "output_type": "display_data"
    }
   ],
   "source": [
    "##是否越多的課成評價 會吸引人去夠買課\n",
    "\n",
    "plt.figure(figsize=(15,8))\n",
    "print(\"修課人數和評價相關係數:\\n\",np.corrcoef(df.solidTickets,df.ratings)[1,0])\n",
    "\n",
    "sns.lineplot(df.solidTickets,df.ratings)\n",
    "plt.scatter(df.solidTickets,df.ratings)\n",
    "plt.title(\"the relationship between ratings and sold tickets\",fontsize=20)\n",
    "plt.xlabel(\"sold tickets\",fontsize=20)"
   ]
  },
  {
   "cell_type": "code",
   "execution_count": null,
   "id": "f6f6b541",
   "metadata": {},
   "outputs": [],
   "source": []
  }
 ],
 "metadata": {
  "kernelspec": {
   "display_name": "Python 3 (ipykernel)",
   "language": "python",
   "name": "python3"
  },
  "language_info": {
   "codemirror_mode": {
    "name": "ipython",
    "version": 3
   },
   "file_extension": ".py",
   "mimetype": "text/x-python",
   "name": "python",
   "nbconvert_exporter": "python",
   "pygments_lexer": "ipython3",
   "version": "3.9.12"
  }
 },
 "nbformat": 4,
 "nbformat_minor": 5
}
