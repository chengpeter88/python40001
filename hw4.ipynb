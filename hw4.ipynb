{
  "nbformat": 4,
  "nbformat_minor": 0,
  "metadata": {
    "colab": {
      "name": "hw4.ipynb",
      "provenance": [],
      "authorship_tag": "ABX9TyM/HBc7z7Nkhc/LD8ok8BAe",
      "include_colab_link": true
    },
    "kernelspec": {
      "name": "python3",
      "display_name": "Python 3"
    },
    "language_info": {
      "name": "python"
    }
  },
  "cells": [
    {
      "cell_type": "markdown",
      "metadata": {
        "id": "view-in-github",
        "colab_type": "text"
      },
      "source": [
        "<a href=\"https://colab.research.google.com/github/chengpeter88/python40001/blob/main/hw4.ipynb\" target=\"_parent\"><img src=\"https://colab.research.google.com/assets/colab-badge.svg\" alt=\"Open In Colab\"/></a>"
      ]
    },
    {
      "cell_type": "code",
      "source": [
        ""
      ],
      "metadata": {
        "id": "nZ33bp4ra0v5"
      },
      "execution_count": null,
      "outputs": []
    },
    {
      "cell_type": "code",
      "execution_count": null,
      "metadata": {
        "colab": {
          "base_uri": "https://localhost:8080/"
        },
        "id": "gOFlQujAW-x9",
        "outputId": "5f456508-899f-4ecd-820b-05b81a054c7e"
      },
      "outputs": [
        {
          "output_type": "stream",
          "name": "stdout",
          "text": [
            "(2, 3)\n",
            "(3, 2)\n",
            "[[ 21  64]\n",
            " [ 42 128]]\n"
          ]
        }
      ],
      "source": [
        "#Q1\n",
        "import numpy as np\n",
        "a = np.array([[2,3,5],[5,7,8]])\n",
        "b = np.array([[1,2],[3,10],[2,6]])\n",
        "print(a.shape)\n",
        "print(b.shape)\n",
        "print(np.matmul(a,b))"
      ]
    },
    {
      "cell_type": "code",
      "source": [
        "class_a=np.array([32,57,89,82,98,57,88,56,93,91])\n",
        "class_b=np.array([88,93,20,70,56,83,92,100,80,97])\n",
        "class_c=np.array([82,75,83,95,96,90,77,82,90,88])\n",
        "print(\"A class總和為:\",np.sum(class_a,axis=0),\"最大:\",np.max(class_a,axis=0))\n",
        "print(\"B class總和為:\",np.sum(class_b,axis=0),\"最大:\",np.max(class_b,axis=0))\n",
        "print(\"C class總和為:\",np.sum(class_c,axis=0),\"最大:\",np.max(class_c,axis=0))"
      ],
      "metadata": {
        "colab": {
          "base_uri": "https://localhost:8080/"
        },
        "id": "y_FQHnaKa2ln",
        "outputId": "8738e8d1-3b4c-4540-eec7-003e2811edc0"
      },
      "execution_count": null,
      "outputs": [
        {
          "output_type": "stream",
          "name": "stdout",
          "text": [
            "A class總和為: 743 最大: 98\n",
            "B class總和為: 779 最大: 100\n",
            "C class總和為: 858 最大: 96\n"
          ]
        }
      ]
    },
    {
      "cell_type": "code",
      "source": [
        ""
      ],
      "metadata": {
        "id": "zNXExOhagBwq"
      },
      "execution_count": null,
      "outputs": []
    }
  ]
}