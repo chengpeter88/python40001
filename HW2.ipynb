{
  "nbformat": 4,
  "nbformat_minor": 0,
  "metadata": {
    "colab": {
      "name": "HW2.ipynb",
      "provenance": []
    },
    "kernelspec": {
      "name": "python3",
      "display_name": "Python 3"
    },
    "language_info": {
      "name": "python"
    }
  },
  "cells": [
    {
      "cell_type": "code",
      "execution_count": null,
      "metadata": {
        "colab": {
          "base_uri": "https://localhost:8080/"
        },
        "id": "ClBBJnxNdyBJ",
        "outputId": "f9226564-e011-46dd-8900-8658baef3beb"
      },
      "outputs": [
        {
          "output_type": "stream",
          "name": "stdout",
          "text": [
            "10\n",
            "1+2+3+4+5+6+7+8+9+10=55\n"
          ]
        }
      ],
      "source": [
        "#Q1\n",
        "n=int(input())\n",
        "i=1\n",
        "total=0\n",
        "while i <= n:\n",
        "  if i == n:\n",
        "    print(i,end=\"=\")\n",
        "  else:\n",
        "    print(i,end=\"+\")\n",
        "  total=total+i\n",
        "  i+=1\n",
        "print(total)"
      ]
    },
    {
      "cell_type": "code",
      "source": [
        "#Q2\n",
        "##部分大於的數字會列印不出來\n",
        "s = input(\"list:\")\n",
        "num=input(\"number:\")\n",
        "s = s.split()\n",
        "ans = []\n",
        "for v in s:\n",
        "    if v >= num:\n",
        "\n",
        "      ans.append(int(v))\n",
        "print(ans)"
      ],
      "metadata": {
        "colab": {
          "base_uri": "https://localhost:8080/"
        },
        "id": "VLcL86XhePDg",
        "outputId": "9dba40ea-c64b-4e18-b389-f421ceb00927"
      },
      "execution_count": null,
      "outputs": [
        {
          "output_type": "stream",
          "name": "stdout",
          "text": [
            "list:35 27 98 100 83 55 67 120 85\n",
            "number:60\n",
            "[98, 83, 67, 85]\n"
          ]
        }
      ]
    },
    {
      "cell_type": "code",
      "source": [
        "#Q3\n",
        "n = input()\n",
        "n=n.split()\n",
        "ans=[]\n",
        "m=0\n",
        "outcome=0\n",
        "for i in n:\n",
        "    m=int(i)\n",
        "    if m %2 == 0:\n",
        "      ans.append(m)\n",
        "      outcome=sum(ans)\n",
        "print(outcome)\n",
        "\n",
        "\n",
        "\n"
      ],
      "metadata": {
        "colab": {
          "base_uri": "https://localhost:8080/"
        },
        "id": "rTg2ocjZgfrl",
        "outputId": "45324011-0be2-4f19-89e4-92f3ad6971df"
      },
      "execution_count": null,
      "outputs": [
        {
          "output_type": "stream",
          "name": "stdout",
          "text": [
            "32 89 100 67 52 98 84\n",
            "366\n"
          ]
        }
      ]
    },
    {
      "cell_type": "code",
      "source": [
        "#Q4\n",
        "##這題卡做不出來\n",
        "s = input(\"主要字串:\")\n",
        "s2= input(\"子字串:\")\n",
        "list_a=[]\n",
        "list_b=[]\n",
        "count=0\n",
        "for j in s:\n",
        "  list_a.append(j)\n",
        "  for i in s2:\n",
        "    list_b.append(i)\n",
        "if (list_a[:])==(list_b[:]):\n",
        "    count+=1\n",
        "    print(count)\n",
        "\n"
      ],
      "metadata": {
        "colab": {
          "base_uri": "https://localhost:8080/"
        },
        "id": "85hw37Cvk1R2",
        "outputId": "b9f98dc6-ee8f-4be2-8704-09eb98ff0347"
      },
      "execution_count": null,
      "outputs": [
        {
          "output_type": "stream",
          "name": "stdout",
          "text": [
            "主要字串:aabb\n",
            "子字串:aacc\n",
            "0\n"
          ]
        }
      ]
    },
    {
      "cell_type": "code",
      "source": [
        "s=input()\n",
        "#s = 'arunununghhjj'\n",
        "sb=input()\n",
        "#sb = 'nun'\n",
        "results = 0\n",
        "sub_len = len(sb)\n",
        "for i in range(len(s)):\n",
        "    if s[i:i+sub_len] == sb:\n",
        "        results += 1\n",
        "print (results)"
      ],
      "metadata": {
        "id": "cEal4VYsoCM5",
        "colab": {
          "base_uri": "https://localhost:8080/"
        },
        "outputId": "68aa449b-4388-4395-eb72-2e8f70b56a8a"
      },
      "execution_count": null,
      "outputs": [
        {
          "output_type": "stream",
          "name": "stdout",
          "text": [
            "abc\n",
            "abc\n",
            "1\n"
          ]
        }
      ]
    },
    {
      "cell_type": "code",
      "source": [
        ""
      ],
      "metadata": {
        "id": "3ptYUf2LWS6w"
      },
      "execution_count": null,
      "outputs": []
    }
  ]
}