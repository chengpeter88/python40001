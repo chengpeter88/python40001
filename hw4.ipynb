{
  "nbformat": 4,
  "nbformat_minor": 0,
  "metadata": {
    "colab": {
      "name": "hw4.ipynb",
      "provenance": [],
      "authorship_tag": "ABX9TyMIViODRHsIDWCiz7CM3uJj",
      "include_colab_link": true
    },
    "kernelspec": {
      "name": "python3",
      "display_name": "Python 3"
    },
    "language_info": {
      "name": "python"
    }
  },
  "cells": [
    {
      "cell_type": "markdown",
      "metadata": {
        "id": "view-in-github",
        "colab_type": "text"
      },
      "source": [
        "<a href=\"https://colab.research.google.com/github/chengpeter88/python40001/blob/main/hw4.ipynb\" target=\"_parent\"><img src=\"https://colab.research.google.com/assets/colab-badge.svg\" alt=\"Open In Colab\"/></a>"
      ]
    },
    {
      "cell_type": "code",
      "source": [
        ""
      ],
      "metadata": {
        "id": "nZ33bp4ra0v5"
      },
      "execution_count": null,
      "outputs": []
    },
    {
      "cell_type": "code",
      "execution_count": 2,
      "metadata": {
        "colab": {
          "base_uri": "https://localhost:8080/"
        },
        "id": "gOFlQujAW-x9",
        "outputId": "12515b65-8565-4412-f2a7-7fc6a4508514"
      },
      "outputs": [
        {
          "output_type": "stream",
          "name": "stdout",
          "text": [
            "A:\n",
            "2 3 5\n",
            "5 7 8\n",
            "B:\n",
            "1 2\n",
            "3 10\n",
            "2 6\n",
            "[[2. 3. 5.]\n",
            " [5. 7. 8.]]\n",
            "[[ 1.  2.]\n",
            " [ 3. 10.]\n",
            " [ 2.  6.]]\n",
            "[[ 21.  64.]\n",
            " [ 42. 128.]]\n"
          ]
        }
      ],
      "source": [
        "#Q1\n",
        "import numpy as np\n",
        "A=np.zeros((2,3))\n",
        "B=np.zeros((3,2))\n",
        "\n",
        "print(\"A:\")\n",
        "for i in range(2):\n",
        "  A[i,:] = np.array(list(map(lambda x: int(x), input().split())))\n",
        "print(\"B:\")\n",
        "for i in range(3):\n",
        "  B[i,:] = np.array(list(map(lambda x: int(x), input().split())))\n",
        "\n",
        "print(A)\n",
        "print(B)\n",
        "\n",
        "ans=np.matmul(A,B)\n",
        "print(ans)"
      ]
    },
    {
      "cell_type": "code",
      "source": [
        "class_a=np.array([32,57,89,82,98,57,88,56,93,91])\n",
        "class_b=np.array([88,93,20,70,56,83,92,100,80,97])\n",
        "class_c=np.array([82,75,83,95,96,90,77,82,90,88])\n",
        "print(\"A class總和為:\",np.sum(class_a,axis=0),\"最大:\",np.max(class_a,axis=0))\n",
        "print(\"B class總和為:\",np.sum(class_b,axis=0),\"最大:\",np.max(class_b,axis=0))\n",
        "print(\"C class總和為:\",np.sum(class_c,axis=0),\"最大:\",np.max(class_c,axis=0))"
      ],
      "metadata": {
        "colab": {
          "base_uri": "https://localhost:8080/"
        },
        "id": "y_FQHnaKa2ln",
        "outputId": "8738e8d1-3b4c-4540-eec7-003e2811edc0"
      },
      "execution_count": null,
      "outputs": [
        {
          "output_type": "stream",
          "name": "stdout",
          "text": [
            "A class總和為: 743 最大: 98\n",
            "B class總和為: 779 最大: 100\n",
            "C class總和為: 858 最大: 96\n"
          ]
        }
      ]
    },
    {
      "cell_type": "code",
      "source": [
        ""
      ],
      "metadata": {
        "id": "zNXExOhagBwq"
      },
      "execution_count": null,
      "outputs": []
    }
  ]
}