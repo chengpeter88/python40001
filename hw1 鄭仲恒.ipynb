{
  "nbformat": 4,
  "nbformat_minor": 0,
  "metadata": {
    "colab": {
      "name": "ＨＷ1.ipynb",
      "provenance": [],
      "collapsed_sections": []
    },
    "kernelspec": {
      "name": "python3",
      "display_name": "Python 3"
    },
    "language_info": {
      "name": "python"
    }
  },
  "cells": [
    {
      "cell_type": "code",
      "execution_count": null,
      "metadata": {
        "colab": {
          "base_uri": "https://localhost:8080/"
        },
        "id": "W8qHpi7UwrJR",
        "outputId": "c6182826-7c55-4ce1-81fd-18dc2045c042"
      },
      "outputs": [
        {
          "output_type": "stream",
          "name": "stdout",
          "text": [
            "number1:25\n",
            "number2:8\n",
            "a is 3.125\n"
          ]
        }
      ],
      "source": [
        "#Q!\n",
        "##不知知道如何寫進位\n",
        "try:\n",
        "  x=int(input(\"number1:\"))\n",
        "  y=int(input(\"number2:\"))\n",
        "  a=x/y\n",
        "  print(\"a is {:.3f}\".format(a))\n",
        "  \n",
        "\n",
        "except ValueError:\n",
        "    print(\"輸入格式錯誤，請輸入數字\")\n",
        "\n"
      ]
    },
    {
      "cell_type": "code",
      "source": [
        "#Q2\n",
        "x=int(input(\"number:\"))\n",
        "if (x%2==0 and x%3==0):\n",
        "  print(\"為六的倍數\")\n",
        "elif x%3==0:\n",
        "  print(\"為三的倍數\")\n",
        "elif x%2==0 :\n",
        "  print(\"為二的倍數\")\n",
        "else:\n",
        "  print(\"都不為二和三的倍數\")"
      ],
      "metadata": {
        "colab": {
          "base_uri": "https://localhost:8080/"
        },
        "id": "vKpC59JHzZdf",
        "outputId": "1c000c61-1fcb-4364-aaf1-bb8078251b9a"
      },
      "execution_count": null,
      "outputs": [
        {
          "output_type": "stream",
          "name": "stdout",
          "text": [
            "number:4\n",
            "為二的倍數\n"
          ]
        }
      ]
    },
    {
      "cell_type": "code",
      "source": [
        "#Q3\n",
        "time = int(input(\"Enter a time: \"))\n",
        "if time <=86400:\n",
        "  print(f\"小時: {time//3600}\",end=\" \")\n",
        "  print(f\"分鐘: {(time//60)%60}\",end=\" \")\n",
        "  print(f\"秒: {time%60}\",end=\" \")\n",
        "else:\n",
        "  print(\"格式錯誤\")\n"
      ],
      "metadata": {
        "colab": {
          "base_uri": "https://localhost:8080/"
        },
        "id": "PkXJyHnJ3ozU",
        "outputId": "e2b9f55d-86f2-4ed6-e9fb-fcef776916b7"
      },
      "execution_count": null,
      "outputs": [
        {
          "output_type": "stream",
          "name": "stdout",
          "text": [
            "Enter a time: 70000000\n",
            "格式錯誤\n"
          ]
        }
      ]
    },
    {
      "cell_type": "code",
      "source": [
        "#Q4\n",
        "a=int(input(\"enter odd number\"))\n",
        "n=1\n",
        "while n <=a:\n",
        "  if n%2!=0:\n",
        "    print(n,end=\" \")\n",
        "  n=n+1"
      ],
      "metadata": {
        "colab": {
          "base_uri": "https://localhost:8080/"
        },
        "id": "2q0FAr9t7LEF",
        "outputId": "e01bdcf8-b264-492a-b10c-413acd74e9fc"
      },
      "execution_count": null,
      "outputs": [
        {
          "output_type": "stream",
          "name": "stdout",
          "text": [
            "enter odd number20\n",
            "1 3 5 7 9 11 13 15 17 19 "
          ]
        }
      ]
    },
    {
      "cell_type": "code",
      "source": [
        ""
      ],
      "metadata": {
        "id": "2rrHl_Xgxphr"
      },
      "execution_count": null,
      "outputs": []
    }
  ]
}