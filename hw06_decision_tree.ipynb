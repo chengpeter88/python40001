{
  "nbformat": 4,
  "nbformat_minor": 0,
  "metadata": {
    "colab": {
      "name": "hw06 decision_tree.ipynb",
      "provenance": [],
      "collapsed_sections": [],
      "include_colab_link": true
    },
    "kernelspec": {
      "name": "python3",
      "display_name": "Python 3"
    },
    "language_info": {
      "name": "python"
    }
  },
  "cells": [
    {
      "cell_type": "markdown",
      "metadata": {
        "id": "view-in-github",
        "colab_type": "text"
      },
      "source": [
        "<a href=\"https://colab.research.google.com/github/chengpeter88/python40001/blob/main/hw06_decision_tree.ipynb\" target=\"_parent\"><img src=\"https://colab.research.google.com/assets/colab-badge.svg\" alt=\"Open In Colab\"/></a>"
      ]
    },
    {
      "cell_type": "markdown",
      "source": [
        "# **Decision Tree**"
      ],
      "metadata": {
        "id": "i0FdiWk15Hf0"
      }
    },
    {
      "cell_type": "code",
      "execution_count": null,
      "metadata": {
        "id": "bq67nz1UfaeC"
      },
      "outputs": [],
      "source": [
        "import numpy as np\n",
        "import pandas as pd\n",
        "import matplotlib.pyplot as plt"
      ]
    },
    {
      "cell_type": "markdown",
      "source": [
        "## **讀取資料**"
      ],
      "metadata": {
        "id": "92BRfJFS5Gxd"
      }
    },
    {
      "cell_type": "code",
      "source": [
        "data = pd.read_csv(\"https://raw.githubusercontent.com/ThousandAI/pycs4001/main/class08/drug200.csv\")\n",
        "data.head(5)\n"
      ],
      "metadata": {
        "colab": {
          "base_uri": "https://localhost:8080/",
          "height": 206
        },
        "id": "KV_3r3npffPQ",
        "outputId": "f18812e1-4761-4fae-bb9d-f79186d6bc6a"
      },
      "execution_count": null,
      "outputs": [
        {
          "output_type": "execute_result",
          "data": {
            "text/plain": [
              "   Age Sex      BP Cholesterol  Na_to_K   Drug\n",
              "0   23   F    HIGH        HIGH   25.355  drugY\n",
              "1   47   M     LOW        HIGH   13.093  drugC\n",
              "2   47   M     LOW        HIGH   10.114  drugC\n",
              "3   28   F  NORMAL        HIGH    7.798  drugX\n",
              "4   61   F     LOW        HIGH   18.043  drugY"
            ],
            "text/html": [
              "\n",
              "  <div id=\"df-081b7bdf-f9b0-435b-8af0-26a382d69028\">\n",
              "    <div class=\"colab-df-container\">\n",
              "      <div>\n",
              "<style scoped>\n",
              "    .dataframe tbody tr th:only-of-type {\n",
              "        vertical-align: middle;\n",
              "    }\n",
              "\n",
              "    .dataframe tbody tr th {\n",
              "        vertical-align: top;\n",
              "    }\n",
              "\n",
              "    .dataframe thead th {\n",
              "        text-align: right;\n",
              "    }\n",
              "</style>\n",
              "<table border=\"1\" class=\"dataframe\">\n",
              "  <thead>\n",
              "    <tr style=\"text-align: right;\">\n",
              "      <th></th>\n",
              "      <th>Age</th>\n",
              "      <th>Sex</th>\n",
              "      <th>BP</th>\n",
              "      <th>Cholesterol</th>\n",
              "      <th>Na_to_K</th>\n",
              "      <th>Drug</th>\n",
              "    </tr>\n",
              "  </thead>\n",
              "  <tbody>\n",
              "    <tr>\n",
              "      <th>0</th>\n",
              "      <td>23</td>\n",
              "      <td>F</td>\n",
              "      <td>HIGH</td>\n",
              "      <td>HIGH</td>\n",
              "      <td>25.355</td>\n",
              "      <td>drugY</td>\n",
              "    </tr>\n",
              "    <tr>\n",
              "      <th>1</th>\n",
              "      <td>47</td>\n",
              "      <td>M</td>\n",
              "      <td>LOW</td>\n",
              "      <td>HIGH</td>\n",
              "      <td>13.093</td>\n",
              "      <td>drugC</td>\n",
              "    </tr>\n",
              "    <tr>\n",
              "      <th>2</th>\n",
              "      <td>47</td>\n",
              "      <td>M</td>\n",
              "      <td>LOW</td>\n",
              "      <td>HIGH</td>\n",
              "      <td>10.114</td>\n",
              "      <td>drugC</td>\n",
              "    </tr>\n",
              "    <tr>\n",
              "      <th>3</th>\n",
              "      <td>28</td>\n",
              "      <td>F</td>\n",
              "      <td>NORMAL</td>\n",
              "      <td>HIGH</td>\n",
              "      <td>7.798</td>\n",
              "      <td>drugX</td>\n",
              "    </tr>\n",
              "    <tr>\n",
              "      <th>4</th>\n",
              "      <td>61</td>\n",
              "      <td>F</td>\n",
              "      <td>LOW</td>\n",
              "      <td>HIGH</td>\n",
              "      <td>18.043</td>\n",
              "      <td>drugY</td>\n",
              "    </tr>\n",
              "  </tbody>\n",
              "</table>\n",
              "</div>\n",
              "      <button class=\"colab-df-convert\" onclick=\"convertToInteractive('df-081b7bdf-f9b0-435b-8af0-26a382d69028')\"\n",
              "              title=\"Convert this dataframe to an interactive table.\"\n",
              "              style=\"display:none;\">\n",
              "        \n",
              "  <svg xmlns=\"http://www.w3.org/2000/svg\" height=\"24px\"viewBox=\"0 0 24 24\"\n",
              "       width=\"24px\">\n",
              "    <path d=\"M0 0h24v24H0V0z\" fill=\"none\"/>\n",
              "    <path d=\"M18.56 5.44l.94 2.06.94-2.06 2.06-.94-2.06-.94-.94-2.06-.94 2.06-2.06.94zm-11 1L8.5 8.5l.94-2.06 2.06-.94-2.06-.94L8.5 2.5l-.94 2.06-2.06.94zm10 10l.94 2.06.94-2.06 2.06-.94-2.06-.94-.94-2.06-.94 2.06-2.06.94z\"/><path d=\"M17.41 7.96l-1.37-1.37c-.4-.4-.92-.59-1.43-.59-.52 0-1.04.2-1.43.59L10.3 9.45l-7.72 7.72c-.78.78-.78 2.05 0 2.83L4 21.41c.39.39.9.59 1.41.59.51 0 1.02-.2 1.41-.59l7.78-7.78 2.81-2.81c.8-.78.8-2.07 0-2.86zM5.41 20L4 18.59l7.72-7.72 1.47 1.35L5.41 20z\"/>\n",
              "  </svg>\n",
              "      </button>\n",
              "      \n",
              "  <style>\n",
              "    .colab-df-container {\n",
              "      display:flex;\n",
              "      flex-wrap:wrap;\n",
              "      gap: 12px;\n",
              "    }\n",
              "\n",
              "    .colab-df-convert {\n",
              "      background-color: #E8F0FE;\n",
              "      border: none;\n",
              "      border-radius: 50%;\n",
              "      cursor: pointer;\n",
              "      display: none;\n",
              "      fill: #1967D2;\n",
              "      height: 32px;\n",
              "      padding: 0 0 0 0;\n",
              "      width: 32px;\n",
              "    }\n",
              "\n",
              "    .colab-df-convert:hover {\n",
              "      background-color: #E2EBFA;\n",
              "      box-shadow: 0px 1px 2px rgba(60, 64, 67, 0.3), 0px 1px 3px 1px rgba(60, 64, 67, 0.15);\n",
              "      fill: #174EA6;\n",
              "    }\n",
              "\n",
              "    [theme=dark] .colab-df-convert {\n",
              "      background-color: #3B4455;\n",
              "      fill: #D2E3FC;\n",
              "    }\n",
              "\n",
              "    [theme=dark] .colab-df-convert:hover {\n",
              "      background-color: #434B5C;\n",
              "      box-shadow: 0px 1px 3px 1px rgba(0, 0, 0, 0.15);\n",
              "      filter: drop-shadow(0px 1px 2px rgba(0, 0, 0, 0.3));\n",
              "      fill: #FFFFFF;\n",
              "    }\n",
              "  </style>\n",
              "\n",
              "      <script>\n",
              "        const buttonEl =\n",
              "          document.querySelector('#df-081b7bdf-f9b0-435b-8af0-26a382d69028 button.colab-df-convert');\n",
              "        buttonEl.style.display =\n",
              "          google.colab.kernel.accessAllowed ? 'block' : 'none';\n",
              "\n",
              "        async function convertToInteractive(key) {\n",
              "          const element = document.querySelector('#df-081b7bdf-f9b0-435b-8af0-26a382d69028');\n",
              "          const dataTable =\n",
              "            await google.colab.kernel.invokeFunction('convertToInteractive',\n",
              "                                                     [key], {});\n",
              "          if (!dataTable) return;\n",
              "\n",
              "          const docLinkHtml = 'Like what you see? Visit the ' +\n",
              "            '<a target=\"_blank\" href=https://colab.research.google.com/notebooks/data_table.ipynb>data table notebook</a>'\n",
              "            + ' to learn more about interactive tables.';\n",
              "          element.innerHTML = '';\n",
              "          dataTable['output_type'] = 'display_data';\n",
              "          await google.colab.output.renderOutput(dataTable, element);\n",
              "          const docLink = document.createElement('div');\n",
              "          docLink.innerHTML = docLinkHtml;\n",
              "          element.appendChild(docLink);\n",
              "        }\n",
              "      </script>\n",
              "    </div>\n",
              "  </div>\n",
              "  "
            ]
          },
          "metadata": {},
          "execution_count": 8
        }
      ]
    },
    {
      "cell_type": "code",
      "source": [
        "x = data.iloc[:,:-1]\n",
        "y = np.array(data.iloc[:,-1:])\n",
        "dummy_x = pd.get_dummies(x)\n",
        "dummy_x"
      ],
      "metadata": {
        "colab": {
          "base_uri": "https://localhost:8080/",
          "height": 424
        },
        "id": "jOBs840Cfloi",
        "outputId": "fb10a84a-cb2d-474a-ea08-a5562c316ba2"
      },
      "execution_count": null,
      "outputs": [
        {
          "output_type": "execute_result",
          "data": {
            "text/plain": [
              "     Age  Na_to_K  Sex_F  Sex_M  BP_HIGH  BP_LOW  BP_NORMAL  Cholesterol_HIGH  \\\n",
              "0     23   25.355      1      0        1       0          0                 1   \n",
              "1     47   13.093      0      1        0       1          0                 1   \n",
              "2     47   10.114      0      1        0       1          0                 1   \n",
              "3     28    7.798      1      0        0       0          1                 1   \n",
              "4     61   18.043      1      0        0       1          0                 1   \n",
              "..   ...      ...    ...    ...      ...     ...        ...               ...   \n",
              "195   56   11.567      1      0        0       1          0                 1   \n",
              "196   16   12.006      0      1        0       1          0                 1   \n",
              "197   52    9.894      0      1        0       0          1                 1   \n",
              "198   23   14.020      0      1        0       0          1                 0   \n",
              "199   40   11.349      1      0        0       1          0                 0   \n",
              "\n",
              "     Cholesterol_NORMAL  \n",
              "0                     0  \n",
              "1                     0  \n",
              "2                     0  \n",
              "3                     0  \n",
              "4                     0  \n",
              "..                  ...  \n",
              "195                   0  \n",
              "196                   0  \n",
              "197                   0  \n",
              "198                   1  \n",
              "199                   1  \n",
              "\n",
              "[200 rows x 9 columns]"
            ],
            "text/html": [
              "\n",
              "  <div id=\"df-8492be6c-f854-456a-be4a-86745198ca23\">\n",
              "    <div class=\"colab-df-container\">\n",
              "      <div>\n",
              "<style scoped>\n",
              "    .dataframe tbody tr th:only-of-type {\n",
              "        vertical-align: middle;\n",
              "    }\n",
              "\n",
              "    .dataframe tbody tr th {\n",
              "        vertical-align: top;\n",
              "    }\n",
              "\n",
              "    .dataframe thead th {\n",
              "        text-align: right;\n",
              "    }\n",
              "</style>\n",
              "<table border=\"1\" class=\"dataframe\">\n",
              "  <thead>\n",
              "    <tr style=\"text-align: right;\">\n",
              "      <th></th>\n",
              "      <th>Age</th>\n",
              "      <th>Na_to_K</th>\n",
              "      <th>Sex_F</th>\n",
              "      <th>Sex_M</th>\n",
              "      <th>BP_HIGH</th>\n",
              "      <th>BP_LOW</th>\n",
              "      <th>BP_NORMAL</th>\n",
              "      <th>Cholesterol_HIGH</th>\n",
              "      <th>Cholesterol_NORMAL</th>\n",
              "    </tr>\n",
              "  </thead>\n",
              "  <tbody>\n",
              "    <tr>\n",
              "      <th>0</th>\n",
              "      <td>23</td>\n",
              "      <td>25.355</td>\n",
              "      <td>1</td>\n",
              "      <td>0</td>\n",
              "      <td>1</td>\n",
              "      <td>0</td>\n",
              "      <td>0</td>\n",
              "      <td>1</td>\n",
              "      <td>0</td>\n",
              "    </tr>\n",
              "    <tr>\n",
              "      <th>1</th>\n",
              "      <td>47</td>\n",
              "      <td>13.093</td>\n",
              "      <td>0</td>\n",
              "      <td>1</td>\n",
              "      <td>0</td>\n",
              "      <td>1</td>\n",
              "      <td>0</td>\n",
              "      <td>1</td>\n",
              "      <td>0</td>\n",
              "    </tr>\n",
              "    <tr>\n",
              "      <th>2</th>\n",
              "      <td>47</td>\n",
              "      <td>10.114</td>\n",
              "      <td>0</td>\n",
              "      <td>1</td>\n",
              "      <td>0</td>\n",
              "      <td>1</td>\n",
              "      <td>0</td>\n",
              "      <td>1</td>\n",
              "      <td>0</td>\n",
              "    </tr>\n",
              "    <tr>\n",
              "      <th>3</th>\n",
              "      <td>28</td>\n",
              "      <td>7.798</td>\n",
              "      <td>1</td>\n",
              "      <td>0</td>\n",
              "      <td>0</td>\n",
              "      <td>0</td>\n",
              "      <td>1</td>\n",
              "      <td>1</td>\n",
              "      <td>0</td>\n",
              "    </tr>\n",
              "    <tr>\n",
              "      <th>4</th>\n",
              "      <td>61</td>\n",
              "      <td>18.043</td>\n",
              "      <td>1</td>\n",
              "      <td>0</td>\n",
              "      <td>0</td>\n",
              "      <td>1</td>\n",
              "      <td>0</td>\n",
              "      <td>1</td>\n",
              "      <td>0</td>\n",
              "    </tr>\n",
              "    <tr>\n",
              "      <th>...</th>\n",
              "      <td>...</td>\n",
              "      <td>...</td>\n",
              "      <td>...</td>\n",
              "      <td>...</td>\n",
              "      <td>...</td>\n",
              "      <td>...</td>\n",
              "      <td>...</td>\n",
              "      <td>...</td>\n",
              "      <td>...</td>\n",
              "    </tr>\n",
              "    <tr>\n",
              "      <th>195</th>\n",
              "      <td>56</td>\n",
              "      <td>11.567</td>\n",
              "      <td>1</td>\n",
              "      <td>0</td>\n",
              "      <td>0</td>\n",
              "      <td>1</td>\n",
              "      <td>0</td>\n",
              "      <td>1</td>\n",
              "      <td>0</td>\n",
              "    </tr>\n",
              "    <tr>\n",
              "      <th>196</th>\n",
              "      <td>16</td>\n",
              "      <td>12.006</td>\n",
              "      <td>0</td>\n",
              "      <td>1</td>\n",
              "      <td>0</td>\n",
              "      <td>1</td>\n",
              "      <td>0</td>\n",
              "      <td>1</td>\n",
              "      <td>0</td>\n",
              "    </tr>\n",
              "    <tr>\n",
              "      <th>197</th>\n",
              "      <td>52</td>\n",
              "      <td>9.894</td>\n",
              "      <td>0</td>\n",
              "      <td>1</td>\n",
              "      <td>0</td>\n",
              "      <td>0</td>\n",
              "      <td>1</td>\n",
              "      <td>1</td>\n",
              "      <td>0</td>\n",
              "    </tr>\n",
              "    <tr>\n",
              "      <th>198</th>\n",
              "      <td>23</td>\n",
              "      <td>14.020</td>\n",
              "      <td>0</td>\n",
              "      <td>1</td>\n",
              "      <td>0</td>\n",
              "      <td>0</td>\n",
              "      <td>1</td>\n",
              "      <td>0</td>\n",
              "      <td>1</td>\n",
              "    </tr>\n",
              "    <tr>\n",
              "      <th>199</th>\n",
              "      <td>40</td>\n",
              "      <td>11.349</td>\n",
              "      <td>1</td>\n",
              "      <td>0</td>\n",
              "      <td>0</td>\n",
              "      <td>1</td>\n",
              "      <td>0</td>\n",
              "      <td>0</td>\n",
              "      <td>1</td>\n",
              "    </tr>\n",
              "  </tbody>\n",
              "</table>\n",
              "<p>200 rows × 9 columns</p>\n",
              "</div>\n",
              "      <button class=\"colab-df-convert\" onclick=\"convertToInteractive('df-8492be6c-f854-456a-be4a-86745198ca23')\"\n",
              "              title=\"Convert this dataframe to an interactive table.\"\n",
              "              style=\"display:none;\">\n",
              "        \n",
              "  <svg xmlns=\"http://www.w3.org/2000/svg\" height=\"24px\"viewBox=\"0 0 24 24\"\n",
              "       width=\"24px\">\n",
              "    <path d=\"M0 0h24v24H0V0z\" fill=\"none\"/>\n",
              "    <path d=\"M18.56 5.44l.94 2.06.94-2.06 2.06-.94-2.06-.94-.94-2.06-.94 2.06-2.06.94zm-11 1L8.5 8.5l.94-2.06 2.06-.94-2.06-.94L8.5 2.5l-.94 2.06-2.06.94zm10 10l.94 2.06.94-2.06 2.06-.94-2.06-.94-.94-2.06-.94 2.06-2.06.94z\"/><path d=\"M17.41 7.96l-1.37-1.37c-.4-.4-.92-.59-1.43-.59-.52 0-1.04.2-1.43.59L10.3 9.45l-7.72 7.72c-.78.78-.78 2.05 0 2.83L4 21.41c.39.39.9.59 1.41.59.51 0 1.02-.2 1.41-.59l7.78-7.78 2.81-2.81c.8-.78.8-2.07 0-2.86zM5.41 20L4 18.59l7.72-7.72 1.47 1.35L5.41 20z\"/>\n",
              "  </svg>\n",
              "      </button>\n",
              "      \n",
              "  <style>\n",
              "    .colab-df-container {\n",
              "      display:flex;\n",
              "      flex-wrap:wrap;\n",
              "      gap: 12px;\n",
              "    }\n",
              "\n",
              "    .colab-df-convert {\n",
              "      background-color: #E8F0FE;\n",
              "      border: none;\n",
              "      border-radius: 50%;\n",
              "      cursor: pointer;\n",
              "      display: none;\n",
              "      fill: #1967D2;\n",
              "      height: 32px;\n",
              "      padding: 0 0 0 0;\n",
              "      width: 32px;\n",
              "    }\n",
              "\n",
              "    .colab-df-convert:hover {\n",
              "      background-color: #E2EBFA;\n",
              "      box-shadow: 0px 1px 2px rgba(60, 64, 67, 0.3), 0px 1px 3px 1px rgba(60, 64, 67, 0.15);\n",
              "      fill: #174EA6;\n",
              "    }\n",
              "\n",
              "    [theme=dark] .colab-df-convert {\n",
              "      background-color: #3B4455;\n",
              "      fill: #D2E3FC;\n",
              "    }\n",
              "\n",
              "    [theme=dark] .colab-df-convert:hover {\n",
              "      background-color: #434B5C;\n",
              "      box-shadow: 0px 1px 3px 1px rgba(0, 0, 0, 0.15);\n",
              "      filter: drop-shadow(0px 1px 2px rgba(0, 0, 0, 0.3));\n",
              "      fill: #FFFFFF;\n",
              "    }\n",
              "  </style>\n",
              "\n",
              "      <script>\n",
              "        const buttonEl =\n",
              "          document.querySelector('#df-8492be6c-f854-456a-be4a-86745198ca23 button.colab-df-convert');\n",
              "        buttonEl.style.display =\n",
              "          google.colab.kernel.accessAllowed ? 'block' : 'none';\n",
              "\n",
              "        async function convertToInteractive(key) {\n",
              "          const element = document.querySelector('#df-8492be6c-f854-456a-be4a-86745198ca23');\n",
              "          const dataTable =\n",
              "            await google.colab.kernel.invokeFunction('convertToInteractive',\n",
              "                                                     [key], {});\n",
              "          if (!dataTable) return;\n",
              "\n",
              "          const docLinkHtml = 'Like what you see? Visit the ' +\n",
              "            '<a target=\"_blank\" href=https://colab.research.google.com/notebooks/data_table.ipynb>data table notebook</a>'\n",
              "            + ' to learn more about interactive tables.';\n",
              "          element.innerHTML = '';\n",
              "          dataTable['output_type'] = 'display_data';\n",
              "          await google.colab.output.renderOutput(dataTable, element);\n",
              "          const docLink = document.createElement('div');\n",
              "          docLink.innerHTML = docLinkHtml;\n",
              "          element.appendChild(docLink);\n",
              "        }\n",
              "      </script>\n",
              "    </div>\n",
              "  </div>\n",
              "  "
            ]
          },
          "metadata": {},
          "execution_count": 10
        }
      ]
    },
    {
      "cell_type": "code",
      "source": [
        "y"
      ],
      "metadata": {
        "id": "zpydcZC2QpyG",
        "outputId": "31ebe181-0125-4e37-97cb-13d975015ef4",
        "colab": {
          "base_uri": "https://localhost:8080/"
        }
      },
      "execution_count": null,
      "outputs": [
        {
          "output_type": "execute_result",
          "data": {
            "text/plain": [
              "array([['drugY'],\n",
              "       ['drugC'],\n",
              "       ['drugC'],\n",
              "       ['drugX'],\n",
              "       ['drugY'],\n",
              "       ['drugX'],\n",
              "       ['drugY'],\n",
              "       ['drugC'],\n",
              "       ['drugY'],\n",
              "       ['drugY'],\n",
              "       ['drugC'],\n",
              "       ['drugY'],\n",
              "       ['drugY'],\n",
              "       ['drugY'],\n",
              "       ['drugX'],\n",
              "       ['drugY'],\n",
              "       ['drugX'],\n",
              "       ['drugA'],\n",
              "       ['drugC'],\n",
              "       ['drugY'],\n",
              "       ['drugY'],\n",
              "       ['drugY'],\n",
              "       ['drugY'],\n",
              "       ['drugY'],\n",
              "       ['drugY'],\n",
              "       ['drugY'],\n",
              "       ['drugY'],\n",
              "       ['drugX'],\n",
              "       ['drugY'],\n",
              "       ['drugY'],\n",
              "       ['drugX'],\n",
              "       ['drugB'],\n",
              "       ['drugX'],\n",
              "       ['drugY'],\n",
              "       ['drugX'],\n",
              "       ['drugX'],\n",
              "       ['drugA'],\n",
              "       ['drugX'],\n",
              "       ['drugX'],\n",
              "       ['drugX'],\n",
              "       ['drugY'],\n",
              "       ['drugB'],\n",
              "       ['drugY'],\n",
              "       ['drugX'],\n",
              "       ['drugX'],\n",
              "       ['drugX'],\n",
              "       ['drugA'],\n",
              "       ['drugC'],\n",
              "       ['drugY'],\n",
              "       ['drugY'],\n",
              "       ['drugY'],\n",
              "       ['drugX'],\n",
              "       ['drugY'],\n",
              "       ['drugY'],\n",
              "       ['drugB'],\n",
              "       ['drugC'],\n",
              "       ['drugB'],\n",
              "       ['drugY'],\n",
              "       ['drugX'],\n",
              "       ['drugY'],\n",
              "       ['drugY'],\n",
              "       ['drugA'],\n",
              "       ['drugY'],\n",
              "       ['drugX'],\n",
              "       ['drugB'],\n",
              "       ['drugY'],\n",
              "       ['drugA'],\n",
              "       ['drugX'],\n",
              "       ['drugY'],\n",
              "       ['drugY'],\n",
              "       ['drugB'],\n",
              "       ['drugY'],\n",
              "       ['drugX'],\n",
              "       ['drugY'],\n",
              "       ['drugY'],\n",
              "       ['drugY'],\n",
              "       ['drugA'],\n",
              "       ['drugY'],\n",
              "       ['drugA'],\n",
              "       ['drugX'],\n",
              "       ['drugB'],\n",
              "       ['drugX'],\n",
              "       ['drugC'],\n",
              "       ['drugA'],\n",
              "       ['drugC'],\n",
              "       ['drugB'],\n",
              "       ['drugX'],\n",
              "       ['drugY'],\n",
              "       ['drugY'],\n",
              "       ['drugY'],\n",
              "       ['drugY'],\n",
              "       ['drugY'],\n",
              "       ['drugY'],\n",
              "       ['drugY'],\n",
              "       ['drugY'],\n",
              "       ['drugX'],\n",
              "       ['drugY'],\n",
              "       ['drugY'],\n",
              "       ['drugY'],\n",
              "       ['drugY'],\n",
              "       ['drugA'],\n",
              "       ['drugA'],\n",
              "       ['drugC'],\n",
              "       ['drugX'],\n",
              "       ['drugY'],\n",
              "       ['drugX'],\n",
              "       ['drugX'],\n",
              "       ['drugY'],\n",
              "       ['drugB'],\n",
              "       ['drugY'],\n",
              "       ['drugA'],\n",
              "       ['drugX'],\n",
              "       ['drugX'],\n",
              "       ['drugX'],\n",
              "       ['drugX'],\n",
              "       ['drugY'],\n",
              "       ['drugX'],\n",
              "       ['drugX'],\n",
              "       ['drugA'],\n",
              "       ['drugY'],\n",
              "       ['drugY'],\n",
              "       ['drugY'],\n",
              "       ['drugY'],\n",
              "       ['drugY'],\n",
              "       ['drugB'],\n",
              "       ['drugY'],\n",
              "       ['drugY'],\n",
              "       ['drugX'],\n",
              "       ['drugY'],\n",
              "       ['drugX'],\n",
              "       ['drugY'],\n",
              "       ['drugY'],\n",
              "       ['drugX'],\n",
              "       ['drugY'],\n",
              "       ['drugY'],\n",
              "       ['drugX'],\n",
              "       ['drugB'],\n",
              "       ['drugA'],\n",
              "       ['drugB'],\n",
              "       ['drugX'],\n",
              "       ['drugA'],\n",
              "       ['drugY'],\n",
              "       ['drugB'],\n",
              "       ['drugY'],\n",
              "       ['drugA'],\n",
              "       ['drugX'],\n",
              "       ['drugX'],\n",
              "       ['drugA'],\n",
              "       ['drugX'],\n",
              "       ['drugC'],\n",
              "       ['drugA'],\n",
              "       ['drugB'],\n",
              "       ['drugX'],\n",
              "       ['drugX'],\n",
              "       ['drugY'],\n",
              "       ['drugC'],\n",
              "       ['drugA'],\n",
              "       ['drugY'],\n",
              "       ['drugC'],\n",
              "       ['drugX'],\n",
              "       ['drugX'],\n",
              "       ['drugB'],\n",
              "       ['drugX'],\n",
              "       ['drugY'],\n",
              "       ['drugY'],\n",
              "       ['drugY'],\n",
              "       ['drugY'],\n",
              "       ['drugX'],\n",
              "       ['drugY'],\n",
              "       ['drugA'],\n",
              "       ['drugX'],\n",
              "       ['drugX'],\n",
              "       ['drugY'],\n",
              "       ['drugY'],\n",
              "       ['drugA'],\n",
              "       ['drugY'],\n",
              "       ['drugA'],\n",
              "       ['drugY'],\n",
              "       ['drugY'],\n",
              "       ['drugY'],\n",
              "       ['drugY'],\n",
              "       ['drugX'],\n",
              "       ['drugX'],\n",
              "       ['drugY'],\n",
              "       ['drugY'],\n",
              "       ['drugY'],\n",
              "       ['drugB'],\n",
              "       ['drugA'],\n",
              "       ['drugY'],\n",
              "       ['drugY'],\n",
              "       ['drugY'],\n",
              "       ['drugA'],\n",
              "       ['drugY'],\n",
              "       ['drugC'],\n",
              "       ['drugY'],\n",
              "       ['drugC'],\n",
              "       ['drugC'],\n",
              "       ['drugX'],\n",
              "       ['drugX'],\n",
              "       ['drugX']], dtype=object)"
            ]
          },
          "metadata": {},
          "execution_count": 11
        }
      ]
    },
    {
      "cell_type": "code",
      "source": [
        "from sklearn.model_selection import train_test_split\n",
        "dummy_x = np.array(dummy_x)\n",
        "train_x, test_x, train_y, test_y = train_test_split(dummy_x, y, test_size=0.2, random_state=10)\n",
        "\n",
        "print(f\"train_x shape:  {train_x.shape}\")\n",
        "print(f\"test_x shape: {test_x.shape}\")"
      ],
      "metadata": {
        "colab": {
          "base_uri": "https://localhost:8080/"
        },
        "id": "OQW8h9TWgX_6",
        "outputId": "3387eab2-fe69-4ac2-ba0d-577c8a3e8957"
      },
      "execution_count": null,
      "outputs": [
        {
          "output_type": "stream",
          "name": "stdout",
          "text": [
            "train_x shape:  (160, 9)\n",
            "test_x shape: (40, 9)\n"
          ]
        }
      ]
    },
    {
      "cell_type": "markdown",
      "source": [
        "## **搭建模型**"
      ],
      "metadata": {
        "id": "iP1sLmaY5vaR"
      }
    },
    {
      "cell_type": "code",
      "source": [
        "from sklearn.tree import DecisionTreeClassifier\n",
        "dc = DecisionTreeClassifier(criterion=\"entropy\", max_depth = 4, random_state=10)"
      ],
      "metadata": {
        "id": "ee4FrBS2h-jq"
      },
      "execution_count": null,
      "outputs": []
    },
    {
      "cell_type": "markdown",
      "source": [
        "## **訓練模型**"
      ],
      "metadata": {
        "id": "7Qqeoeog53Cj"
      }
    },
    {
      "cell_type": "code",
      "source": [
        "dc.fit(train_x, train_y)"
      ],
      "metadata": {
        "colab": {
          "base_uri": "https://localhost:8080/"
        },
        "id": "TsntCqhCi64E",
        "outputId": "6e9b8180-95a8-4bdd-8762-662f5118d9b9"
      },
      "execution_count": null,
      "outputs": [
        {
          "output_type": "execute_result",
          "data": {
            "text/plain": [
              "DecisionTreeClassifier(criterion='entropy', max_depth=4, random_state=10)"
            ]
          },
          "metadata": {},
          "execution_count": 14
        }
      ]
    },
    {
      "cell_type": "markdown",
      "source": [
        "## **評估模型**"
      ],
      "metadata": {
        "id": "rsGdLt3s58dc"
      }
    },
    {
      "cell_type": "code",
      "source": [
        "from sklearn import metrics\n",
        "y_pred = dc.predict(test_x)\n",
        "print(\"DecisionTree Accuracy: \", metrics.accuracy_score(test_y, y_pred))"
      ],
      "metadata": {
        "colab": {
          "base_uri": "https://localhost:8080/"
        },
        "id": "3r5HjYRp6BGE",
        "outputId": "44af3fef-41db-4d8c-a4b8-48d9ed3b26a7"
      },
      "execution_count": null,
      "outputs": [
        {
          "output_type": "stream",
          "name": "stdout",
          "text": [
            "DecisionTree Accuracy:  1.0\n"
          ]
        }
      ]
    },
    {
      "cell_type": "code",
      "source": [
        "from sklearn import tree\n",
        "\n",
        "tree.plot_tree(dc)"
      ],
      "metadata": {
        "colab": {
          "base_uri": "https://localhost:8080/",
          "height": 444
        },
        "id": "RDNTZ5Zn8szC",
        "outputId": "8e17aed7-7848-48ef-e023-a32f9b443597"
      },
      "execution_count": null,
      "outputs": [
        {
          "output_type": "execute_result",
          "data": {
            "text/plain": [
              "[Text(0.625, 0.9, 'X[1] <= 14.829\\nentropy = 1.915\\nsamples = 160\\nvalue = [17, 13, 10, 45, 75]'),\n",
              " Text(0.5, 0.7, 'X[4] <= 0.5\\nentropy = 1.728\\nsamples = 85\\nvalue = [17, 13, 10, 45, 0]'),\n",
              " Text(0.25, 0.5, 'X[5] <= 0.5\\nentropy = 0.684\\nsamples = 55\\nvalue = [0, 0, 10, 45, 0]'),\n",
              " Text(0.125, 0.3, 'entropy = 0.0\\nsamples = 29\\nvalue = [0, 0, 0, 29, 0]'),\n",
              " Text(0.375, 0.3, 'X[7] <= 0.5\\nentropy = 0.961\\nsamples = 26\\nvalue = [0, 0, 10, 16, 0]'),\n",
              " Text(0.25, 0.1, 'entropy = 0.0\\nsamples = 16\\nvalue = [0, 0, 0, 16, 0]'),\n",
              " Text(0.5, 0.1, 'entropy = 0.0\\nsamples = 10\\nvalue = [0, 0, 10, 0, 0]'),\n",
              " Text(0.75, 0.5, 'X[0] <= 50.5\\nentropy = 0.987\\nsamples = 30\\nvalue = [17, 13, 0, 0, 0]'),\n",
              " Text(0.625, 0.3, 'entropy = 0.0\\nsamples = 17\\nvalue = [17, 0, 0, 0, 0]'),\n",
              " Text(0.875, 0.3, 'entropy = 0.0\\nsamples = 13\\nvalue = [0, 13, 0, 0, 0]'),\n",
              " Text(0.75, 0.7, 'entropy = 0.0\\nsamples = 75\\nvalue = [0, 0, 0, 0, 75]')]"
            ]
          },
          "metadata": {},
          "execution_count": 16
        },
        {
          "output_type": "display_data",
          "data": {
            "text/plain": [
              "<Figure size 432x288 with 1 Axes>"
            ],
            "image/png": "[encoded data removed]"
          },
          "metadata": {
            "needs_background": "light"
          }
        }
      ]
    },
    {
      "cell_type": "code",
      "source": [
        "text_representation = tree.export_text(dc)\n",
        "print(text_representation)"
      ],
      "metadata": {
        "colab": {
          "base_uri": "https://localhost:8080/"
        },
        "id": "yTKof4MnMvWi",
        "outputId": "0bae0bc4-065a-491e-8937-dcbb53fef244"
      },
      "execution_count": null,
      "outputs": [
        {
          "output_type": "stream",
          "name": "stdout",
          "text": [
            "|--- feature_1 <= 14.83\n",
            "|   |--- feature_4 <= 0.50\n",
            "|   |   |--- feature_5 <= 0.50\n",
            "|   |   |   |--- class: drugX\n",
            "|   |   |--- feature_5 >  0.50\n",
            "|   |   |   |--- feature_7 <= 0.50\n",
            "|   |   |   |   |--- class: drugX\n",
            "|   |   |   |--- feature_7 >  0.50\n",
            "|   |   |   |   |--- class: drugC\n",
            "|   |--- feature_4 >  0.50\n",
            "|   |   |--- feature_0 <= 50.50\n",
            "|   |   |   |--- class: drugA\n",
            "|   |   |--- feature_0 >  50.50\n",
            "|   |   |   |--- class: drugB\n",
            "|--- feature_1 >  14.83\n",
            "|   |--- class: drugY\n",
            "\n"
          ]
        }
      ]
    },
    {
      "cell_type": "code",
      "source": [
        "with open(\"decistion_tree.log\", \"w\") as fout:\n",
        "    fout.write(text_representation)"
      ],
      "metadata": {
        "id": "Yf2DTQ57M5Gs"
      },
      "execution_count": null,
      "outputs": []
    },
    {
      "cell_type": "code",
      "source": [
        "import graphviz\n",
        "tree_plot_3 = tree.export_graphviz(dc, out_file=None, feature_names=[\"Age\",\"Na_to_K\",\"Sex_F\",\"Sex_M\",\"BP_HIGH\",\"BP_LOW\",\n",
        "                                      \"BP_NORMAL\",\"Cholesterol_HIGH\",\"Cholesterol_NORMAL\"], class_names=[\"drugA\",\"drugB\",\"drugC\",\"drugX\",\"drugY\"], filled=True)\n",
        "\n",
        "graph = graphviz.Source(tree_plot_3, format=\"png\") \n",
        "graph"
      ],
      "metadata": {
        "colab": {
          "base_uri": "https://localhost:8080/",
          "height": 757
        },
        "id": "C9VaabFbNBB2",
        "outputId": "11d88eb6-feb7-416b-9b83-fe164f926d06"
      },
      "execution_count": null,
      "outputs": [
        {
          "output_type": "execute_result",
          "data": {
            "text/plain": [
              "<graphviz.files.Source at 0x7f85c85dded0>"
            ],
            "image/svg+xml": "<?xml version=\"1.0\" encoding=\"UTF-8\" standalone=\"no\"?>\n<!DOCTYPE svg PUBLIC \"-//W3C//DTD SVG 1.1//EN\"\n \"http://www.w3.org/Graphics/SVG/1.1/DTD/svg11.dtd\">\n<!-- Generated by graphviz version 2.40.1 (20161225.0304)\n -->\n<!-- Title: Tree Pages: 1 -->\n<svg width=\"706pt\" height=\"552pt\"\n viewBox=\"0.00 0.00 706.00 552.00\" xmlns=\"http://www.w3.org/2000/svg\" xmlns:xlink=\"http://www.w3.org/1999/xlink\">\n<g id=\"graph0\" class=\"graph\" transform=\"scale(1 1) rotate(0) translate(4 548)\">\n<title>Tree</title>\n<polygon fill=\"#ffffff\" stroke=\"transparent\" points=\"-4,4 -4,-548 702,-548 702,4 -4,4\"/>\n<!-- 0 -->\n<g id=\"node1\" class=\"node\">\n<title>0</title>\n<polygon fill=\"#f8cbef\" stroke=\"#000000\" points=\"540.5,-544 352.5,-544 352.5,-461 540.5,-461 540.5,-544\"/>\n<text text-anchor=\"middle\" x=\"446.5\" y=\"-528.8\" font-family=\"Helvetica,sans-Serif\" font-size=\"14.00\" fill=\"#000000\">Na_to_K &lt;= 14.829</text>\n<text text-anchor=\"middle\" x=\"446.5\" y=\"-513.8\" font-family=\"Helvetica,sans-Serif\" font-size=\"14.00\" fill=\"#000000\">entropy = 1.915</text>\n<text text-anchor=\"middle\" x=\"446.5\" y=\"-498.8\" font-family=\"Helvetica,sans-Serif\" font-size=\"14.00\" fill=\"#000000\">samples = 160</text>\n<text text-anchor=\"middle\" x=\"446.5\" y=\"-483.8\" font-family=\"Helvetica,sans-Serif\" font-size=\"14.00\" fill=\"#000000\">value = [17, 13, 10, 45, 75]</text>\n<text text-anchor=\"middle\" x=\"446.5\" y=\"-468.8\" font-family=\"Helvetica,sans-Serif\" font-size=\"14.00\" fill=\"#000000\">class = drugY</text>\n</g>\n<!-- 1 -->\n<g id=\"node2\" class=\"node\">\n<title>1</title>\n<polygon fill=\"#afadf4\" stroke=\"#000000\" points=\"444,-425 265,-425 265,-342 444,-342 444,-425\"/>\n<text text-anchor=\"middle\" x=\"354.5\" y=\"-409.8\" font-family=\"Helvetica,sans-Serif\" font-size=\"14.00\" fill=\"#000000\">BP_HIGH &lt;= 0.5</text>\n<text text-anchor=\"middle\" x=\"354.5\" y=\"-394.8\" font-family=\"Helvetica,sans-Serif\" font-size=\"14.00\" fill=\"#000000\">entropy = 1.728</text>\n<text text-anchor=\"middle\" x=\"354.5\" y=\"-379.8\" font-family=\"Helvetica,sans-Serif\" font-size=\"14.00\" fill=\"#000000\">samples = 85</text>\n<text text-anchor=\"middle\" x=\"354.5\" y=\"-364.8\" font-family=\"Helvetica,sans-Serif\" font-size=\"14.00\" fill=\"#000000\">value = [17, 13, 10, 45, 0]</text>\n<text text-anchor=\"middle\" x=\"354.5\" y=\"-349.8\" font-family=\"Helvetica,sans-Serif\" font-size=\"14.00\" fill=\"#000000\">class = drugX</text>\n</g>\n<!-- 0&#45;&gt;1 -->\n<g id=\"edge1\" class=\"edge\">\n<title>0&#45;&gt;1</title>\n<path fill=\"none\" stroke=\"#000000\" d=\"M414.3229,-460.8796C407.4296,-451.9633 400.0798,-442.4565 392.9761,-433.268\"/>\n<polygon fill=\"#000000\" stroke=\"#000000\" points=\"395.6999,-431.0687 386.8145,-425.2981 390.1619,-435.3502 395.6999,-431.0687\"/>\n<text text-anchor=\"middle\" x=\"383.6413\" y=\"-446.3959\" font-family=\"Helvetica,sans-Serif\" font-size=\"14.00\" fill=\"#000000\">True</text>\n</g>\n<!-- 10 -->\n<g id=\"node11\" class=\"node\">\n<title>10</title>\n<polygon fill=\"#e539c0\" stroke=\"#000000\" points=\"617,-417.5 462,-417.5 462,-349.5 617,-349.5 617,-417.5\"/>\n<text text-anchor=\"middle\" x=\"539.5\" y=\"-402.3\" font-family=\"Helvetica,sans-Serif\" font-size=\"14.00\" fill=\"#000000\">entropy = 0.0</text>\n<text text-anchor=\"middle\" x=\"539.5\" y=\"-387.3\" font-family=\"Helvetica,sans-Serif\" font-size=\"14.00\" fill=\"#000000\">samples = 75</text>\n<text text-anchor=\"middle\" x=\"539.5\" y=\"-372.3\" font-family=\"Helvetica,sans-Serif\" font-size=\"14.00\" fill=\"#000000\">value = [0, 0, 0, 0, 75]</text>\n<text text-anchor=\"middle\" x=\"539.5\" y=\"-357.3\" font-family=\"Helvetica,sans-Serif\" font-size=\"14.00\" fill=\"#000000\">class = drugY</text>\n</g>\n<!-- 0&#45;&gt;10 -->\n<g id=\"edge10\" class=\"edge\">\n<title>0&#45;&gt;10</title>\n<path fill=\"none\" stroke=\"#000000\" d=\"M479.0269,-460.8796C487.8783,-449.5536 497.4743,-437.2748 506.3593,-425.9058\"/>\n<polygon fill=\"#000000\" stroke=\"#000000\" points=\"509.2824,-427.8494 512.6824,-417.8149 503.7669,-423.539 509.2824,-427.8494\"/>\n<text text-anchor=\"middle\" x=\"515.7257\" y=\"-438.929\" font-family=\"Helvetica,sans-Serif\" font-size=\"14.00\" fill=\"#000000\">False</text>\n</g>\n<!-- 2 -->\n<g id=\"node3\" class=\"node\">\n<title>2</title>\n<polygon fill=\"#6765eb\" stroke=\"#000000\" points=\"344,-306 181,-306 181,-223 344,-223 344,-306\"/>\n<text text-anchor=\"middle\" x=\"262.5\" y=\"-290.8\" font-family=\"Helvetica,sans-Serif\" font-size=\"14.00\" fill=\"#000000\">BP_LOW &lt;= 0.5</text>\n<text text-anchor=\"middle\" x=\"262.5\" y=\"-275.8\" font-family=\"Helvetica,sans-Serif\" font-size=\"14.00\" fill=\"#000000\">entropy = 0.684</text>\n<text text-anchor=\"middle\" x=\"262.5\" y=\"-260.8\" font-family=\"Helvetica,sans-Serif\" font-size=\"14.00\" fill=\"#000000\">samples = 55</text>\n<text text-anchor=\"middle\" x=\"262.5\" y=\"-245.8\" font-family=\"Helvetica,sans-Serif\" font-size=\"14.00\" fill=\"#000000\">value = [0, 0, 10, 45, 0]</text>\n<text text-anchor=\"middle\" x=\"262.5\" y=\"-230.8\" font-family=\"Helvetica,sans-Serif\" font-size=\"14.00\" fill=\"#000000\">class = drugX</text>\n</g>\n<!-- 1&#45;&gt;2 -->\n<g id=\"edge2\" class=\"edge\">\n<title>1&#45;&gt;2</title>\n<path fill=\"none\" stroke=\"#000000\" d=\"M322.3229,-341.8796C315.4296,-332.9633 308.0798,-323.4565 300.9761,-314.268\"/>\n<polygon fill=\"#000000\" stroke=\"#000000\" points=\"303.6999,-312.0687 294.8145,-306.2981 298.1619,-316.3502 303.6999,-312.0687\"/>\n</g>\n<!-- 7 -->\n<g id=\"node8\" class=\"node\">\n<title>7</title>\n<polygon fill=\"#f9e1d0\" stroke=\"#000000\" points=\"529,-306 366,-306 366,-223 529,-223 529,-306\"/>\n<text text-anchor=\"middle\" x=\"447.5\" y=\"-290.8\" font-family=\"Helvetica,sans-Serif\" font-size=\"14.00\" fill=\"#000000\">Age &lt;= 50.5</text>\n<text text-anchor=\"middle\" x=\"447.5\" y=\"-275.8\" font-family=\"Helvetica,sans-Serif\" font-size=\"14.00\" fill=\"#000000\">entropy = 0.987</text>\n<text text-anchor=\"middle\" x=\"447.5\" y=\"-260.8\" font-family=\"Helvetica,sans-Serif\" font-size=\"14.00\" fill=\"#000000\">samples = 30</text>\n<text text-anchor=\"middle\" x=\"447.5\" y=\"-245.8\" font-family=\"Helvetica,sans-Serif\" font-size=\"14.00\" fill=\"#000000\">value = [17, 13, 0, 0, 0]</text>\n<text text-anchor=\"middle\" x=\"447.5\" y=\"-230.8\" font-family=\"Helvetica,sans-Serif\" font-size=\"14.00\" fill=\"#000000\">class = drugA</text>\n</g>\n<!-- 1&#45;&gt;7 -->\n<g id=\"edge7\" class=\"edge\">\n<title>1&#45;&gt;7</title>\n<path fill=\"none\" stroke=\"#000000\" d=\"M387.0269,-341.8796C393.9951,-332.9633 401.4247,-323.4565 408.6056,-314.268\"/>\n<polygon fill=\"#000000\" stroke=\"#000000\" points=\"411.4343,-316.3326 414.8343,-306.2981 405.9188,-312.0221 411.4343,-316.3326\"/>\n</g>\n<!-- 3 -->\n<g id=\"node4\" class=\"node\">\n<title>3</title>\n<polygon fill=\"#3c39e5\" stroke=\"#000000\" points=\"155,-179.5 0,-179.5 0,-111.5 155,-111.5 155,-179.5\"/>\n<text text-anchor=\"middle\" x=\"77.5\" y=\"-164.3\" font-family=\"Helvetica,sans-Serif\" font-size=\"14.00\" fill=\"#000000\">entropy = 0.0</text>\n<text text-anchor=\"middle\" x=\"77.5\" y=\"-149.3\" font-family=\"Helvetica,sans-Serif\" font-size=\"14.00\" fill=\"#000000\">samples = 29</text>\n<text text-anchor=\"middle\" x=\"77.5\" y=\"-134.3\" font-family=\"Helvetica,sans-Serif\" font-size=\"14.00\" fill=\"#000000\">value = [0, 0, 0, 29, 0]</text>\n<text text-anchor=\"middle\" x=\"77.5\" y=\"-119.3\" font-family=\"Helvetica,sans-Serif\" font-size=\"14.00\" fill=\"#000000\">class = drugX</text>\n</g>\n<!-- 2&#45;&gt;3 -->\n<g id=\"edge3\" class=\"edge\">\n<title>2&#45;&gt;3</title>\n<path fill=\"none\" stroke=\"#000000\" d=\"M197.796,-222.8796C178.7304,-210.6158 157.9281,-197.2348 139.0654,-185.1015\"/>\n<polygon fill=\"#000000\" stroke=\"#000000\" points=\"140.8522,-182.0893 130.5484,-179.623 137.0653,-187.9766 140.8522,-182.0893\"/>\n</g>\n<!-- 4 -->\n<g id=\"node5\" class=\"node\">\n<title>4</title>\n<polygon fill=\"#b6b5f5\" stroke=\"#000000\" points=\"352,-187 173,-187 173,-104 352,-104 352,-187\"/>\n<text text-anchor=\"middle\" x=\"262.5\" y=\"-171.8\" font-family=\"Helvetica,sans-Serif\" font-size=\"14.00\" fill=\"#000000\">Cholesterol_HIGH &lt;= 0.5</text>\n<text text-anchor=\"middle\" x=\"262.5\" y=\"-156.8\" font-family=\"Helvetica,sans-Serif\" font-size=\"14.00\" fill=\"#000000\">entropy = 0.961</text>\n<text text-anchor=\"middle\" x=\"262.5\" y=\"-141.8\" font-family=\"Helvetica,sans-Serif\" font-size=\"14.00\" fill=\"#000000\">samples = 26</text>\n<text text-anchor=\"middle\" x=\"262.5\" y=\"-126.8\" font-family=\"Helvetica,sans-Serif\" font-size=\"14.00\" fill=\"#000000\">value = [0, 0, 10, 16, 0]</text>\n<text text-anchor=\"middle\" x=\"262.5\" y=\"-111.8\" font-family=\"Helvetica,sans-Serif\" font-size=\"14.00\" fill=\"#000000\">class = drugX</text>\n</g>\n<!-- 2&#45;&gt;4 -->\n<g id=\"edge4\" class=\"edge\">\n<title>2&#45;&gt;4</title>\n<path fill=\"none\" stroke=\"#000000\" d=\"M262.5,-222.8796C262.5,-214.6838 262.5,-205.9891 262.5,-197.5013\"/>\n<polygon fill=\"#000000\" stroke=\"#000000\" points=\"266.0001,-197.298 262.5,-187.2981 259.0001,-197.2981 266.0001,-197.298\"/>\n</g>\n<!-- 5 -->\n<g id=\"node6\" class=\"node\">\n<title>5</title>\n<polygon fill=\"#3c39e5\" stroke=\"#000000\" points=\"253,-68 98,-68 98,0 253,0 253,-68\"/>\n<text text-anchor=\"middle\" x=\"175.5\" y=\"-52.8\" font-family=\"Helvetica,sans-Serif\" font-size=\"14.00\" fill=\"#000000\">entropy = 0.0</text>\n<text text-anchor=\"middle\" x=\"175.5\" y=\"-37.8\" font-family=\"Helvetica,sans-Serif\" font-size=\"14.00\" fill=\"#000000\">samples = 16</text>\n<text text-anchor=\"middle\" x=\"175.5\" y=\"-22.8\" font-family=\"Helvetica,sans-Serif\" font-size=\"14.00\" fill=\"#000000\">value = [0, 0, 0, 16, 0]</text>\n<text text-anchor=\"middle\" x=\"175.5\" y=\"-7.8\" font-family=\"Helvetica,sans-Serif\" font-size=\"14.00\" fill=\"#000000\">class = drugX</text>\n</g>\n<!-- 4&#45;&gt;5 -->\n<g id=\"edge5\" class=\"edge\">\n<title>4&#45;&gt;5</title>\n<path fill=\"none\" stroke=\"#000000\" d=\"M230.1044,-103.9815C223.0766,-94.9747 215.6345,-85.4367 208.5807,-76.3965\"/>\n<polygon fill=\"#000000\" stroke=\"#000000\" points=\"211.146,-73.9946 202.2349,-68.2637 205.6272,-78.3008 211.146,-73.9946\"/>\n</g>\n<!-- 6 -->\n<g id=\"node7\" class=\"node\">\n<title>6</title>\n<polygon fill=\"#39e5c5\" stroke=\"#000000\" points=\"426,-68 271,-68 271,0 426,0 426,-68\"/>\n<text text-anchor=\"middle\" x=\"348.5\" y=\"-52.8\" font-family=\"Helvetica,sans-Serif\" font-size=\"14.00\" fill=\"#000000\">entropy = 0.0</text>\n<text text-anchor=\"middle\" x=\"348.5\" y=\"-37.8\" font-family=\"Helvetica,sans-Serif\" font-size=\"14.00\" fill=\"#000000\">samples = 10</text>\n<text text-anchor=\"middle\" x=\"348.5\" y=\"-22.8\" font-family=\"Helvetica,sans-Serif\" font-size=\"14.00\" fill=\"#000000\">value = [0, 0, 10, 0, 0]</text>\n<text text-anchor=\"middle\" x=\"348.5\" y=\"-7.8\" font-family=\"Helvetica,sans-Serif\" font-size=\"14.00\" fill=\"#000000\">class = drugC</text>\n</g>\n<!-- 4&#45;&gt;6 -->\n<g id=\"edge6\" class=\"edge\">\n<title>4&#45;&gt;6</title>\n<path fill=\"none\" stroke=\"#000000\" d=\"M294.5232,-103.9815C301.4702,-94.9747 308.8269,-85.4367 315.7996,-76.3965\"/>\n<polygon fill=\"#000000\" stroke=\"#000000\" points=\"318.7364,-78.3196 322.0724,-68.2637 313.1936,-74.0444 318.7364,-78.3196\"/>\n</g>\n<!-- 8 -->\n<g id=\"node9\" class=\"node\">\n<title>8</title>\n<polygon fill=\"#e58139\" stroke=\"#000000\" points=\"525,-179.5 370,-179.5 370,-111.5 525,-111.5 525,-179.5\"/>\n<text text-anchor=\"middle\" x=\"447.5\" y=\"-164.3\" font-family=\"Helvetica,sans-Serif\" font-size=\"14.00\" fill=\"#000000\">entropy = 0.0</text>\n<text text-anchor=\"middle\" x=\"447.5\" y=\"-149.3\" font-family=\"Helvetica,sans-Serif\" font-size=\"14.00\" fill=\"#000000\">samples = 17</text>\n<text text-anchor=\"middle\" x=\"447.5\" y=\"-134.3\" font-family=\"Helvetica,sans-Serif\" font-size=\"14.00\" fill=\"#000000\">value = [17, 0, 0, 0, 0]</text>\n<text text-anchor=\"middle\" x=\"447.5\" y=\"-119.3\" font-family=\"Helvetica,sans-Serif\" font-size=\"14.00\" fill=\"#000000\">class = drugA</text>\n</g>\n<!-- 7&#45;&gt;8 -->\n<g id=\"edge8\" class=\"edge\">\n<title>7&#45;&gt;8</title>\n<path fill=\"none\" stroke=\"#000000\" d=\"M447.5,-222.8796C447.5,-212.2134 447.5,-200.7021 447.5,-189.9015\"/>\n<polygon fill=\"#000000\" stroke=\"#000000\" points=\"451.0001,-189.8149 447.5,-179.8149 444.0001,-189.815 451.0001,-189.8149\"/>\n</g>\n<!-- 9 -->\n<g id=\"node10\" class=\"node\">\n<title>9</title>\n<polygon fill=\"#7be539\" stroke=\"#000000\" points=\"698,-179.5 543,-179.5 543,-111.5 698,-111.5 698,-179.5\"/>\n<text text-anchor=\"middle\" x=\"620.5\" y=\"-164.3\" font-family=\"Helvetica,sans-Serif\" font-size=\"14.00\" fill=\"#000000\">entropy = 0.0</text>\n<text text-anchor=\"middle\" x=\"620.5\" y=\"-149.3\" font-family=\"Helvetica,sans-Serif\" font-size=\"14.00\" fill=\"#000000\">samples = 13</text>\n<text text-anchor=\"middle\" x=\"620.5\" y=\"-134.3\" font-family=\"Helvetica,sans-Serif\" font-size=\"14.00\" fill=\"#000000\">value = [0, 13, 0, 0, 0]</text>\n<text text-anchor=\"middle\" x=\"620.5\" y=\"-119.3\" font-family=\"Helvetica,sans-Serif\" font-size=\"14.00\" fill=\"#000000\">class = drugB</text>\n</g>\n<!-- 7&#45;&gt;9 -->\n<g id=\"edge9\" class=\"edge\">\n<title>7&#45;&gt;9</title>\n<path fill=\"none\" stroke=\"#000000\" d=\"M508.007,-222.8796C525.6752,-210.7263 544.9385,-197.4759 562.4509,-185.4297\"/>\n<polygon fill=\"#000000\" stroke=\"#000000\" points=\"564.6371,-188.1741 570.8926,-179.623 560.6699,-182.4067 564.6371,-188.1741\"/>\n</g>\n</g>\n</svg>\n"
          },
          "metadata": {},
          "execution_count": 21
        }
      ]
    },
    {
      "cell_type": "code",
      "source": [
        ""
      ],
      "metadata": {
        "id": "RDyUV91JQoeR"
      },
      "execution_count": null,
      "outputs": []
    },
    {
      "cell_type": "code",
      "source": [
        ""
      ],
      "metadata": {
        "id": "vzhxZNOjNdCP"
      },
      "execution_count": null,
      "outputs": []
    },
    {
      "cell_type": "code",
      "source": [
        ""
      ],
      "metadata": {
        "id": "2tlt6tgaNfel"
      },
      "execution_count": null,
      "outputs": []
    }
  ]
}